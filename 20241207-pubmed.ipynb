{
 "cells": [
  {
   "cell_type": "markdown",
   "metadata": {},
   "source": [
    "# 正解データの作成"
   ]
  },
  {
   "cell_type": "code",
   "execution_count": 1,
   "metadata": {},
   "outputs": [
    {
     "name": "stdout",
     "output_type": "stream",
     "text": [
      "Collecting biopython\n",
      "  Downloading biopython-1.84-cp312-cp312-win_amd64.whl.metadata (13 kB)\n",
      "Requirement already satisfied: numpy in c:\\users\\youki\\appdata\\local\\programs\\python\\python312\\lib\\site-packages (from biopython) (2.1.2)\n",
      "Downloading biopython-1.84-cp312-cp312-win_amd64.whl (2.8 MB)\n",
      "   ---------------------------------------- 0.0/2.8 MB ? eta -:--:--\n",
      "   --------------- ------------------------ 1.0/2.8 MB 5.6 MB/s eta 0:00:01\n",
      "   --------------------------------- ------ 2.4/2.8 MB 5.8 MB/s eta 0:00:01\n",
      "   ---------------------------------------- 2.8/2.8 MB 5.8 MB/s eta 0:00:00\n",
      "Installing collected packages: biopython\n",
      "Successfully installed biopython-1.84\n"
     ]
    },
    {
     "name": "stderr",
     "output_type": "stream",
     "text": [
      "\n",
      "[notice] A new release of pip is available: 24.2 -> 24.3.1\n",
      "[notice] To update, run: python.exe -m pip install --upgrade pip\n"
     ]
    }
   ],
   "source": [
    "!pip install biopython\n"
   ]
  },
  {
   "cell_type": "code",
   "execution_count": 2,
   "metadata": {},
   "outputs": [
    {
     "name": "stdout",
     "output_type": "stream",
     "text": [
      "Data saved to pubmed_true_data.csv\n"
     ]
    }
   ],
   "source": [
    "from Bio import Entrez\n",
    "import csv\n",
    "\n",
    "# Entrezの設定\n",
    "Entrez.email = \"youkiti@example.com\"  # 必ず自分のメールアドレスを入力\n",
    "\n",
    "# PMIDリスト\n",
    "pmid_list = [\n",
    "    \"9971864\", \"30871608\", \"39382241\", \"38869931\",\n",
    "    \"28906284\", \"21192282\", \"33591005\", \"15888852\",\n",
    "    \"18442375\", \"27436190\"\n",
    "]\n",
    "\n",
    "# 出力ファイル名\n",
    "output_file = \"pubmed_true_data.csv\"\n",
    "\n",
    "# データ取得関数\n",
    "def fetch_pubmed_data(pmids):\n",
    "    records = []\n",
    "    for pmid in pmids:\n",
    "        try:\n",
    "            handle = Entrez.efetch(db=\"pubmed\", id=pmid, rettype=\"xml\", retmode=\"text\")\n",
    "            records.append(Entrez.read(handle))\n",
    "            handle.close()\n",
    "        except Exception as e:\n",
    "            print(f\"Error fetching PMID {pmid}: {e}\")\n",
    "    return records\n",
    "\n",
    "# タイトルとアブストラクトの抽出\n",
    "def extract_title_abstract(records):\n",
    "    data = []\n",
    "    for record in records:\n",
    "        try:\n",
    "            article = record[\"PubmedArticle\"][0][\"MedlineCitation\"][\"Article\"]\n",
    "            pmid = record[\"PubmedArticle\"][0][\"MedlineCitation\"][\"PMID\"]\n",
    "            title = article.get(\"ArticleTitle\", \"No Title\")\n",
    "            abstract = article.get(\"Abstract\", {}).get(\"AbstractText\", [\"No Abstract\"])[0]\n",
    "            data.append([pmid, title, abstract])\n",
    "        except Exception as e:\n",
    "            print(f\"Error processing record: {e}\")\n",
    "    return data\n",
    "\n",
    "# データ取得と保存\n",
    "def save_to_csv(data, filename):\n",
    "    with open(filename, mode=\"w\", newline=\"\", encoding=\"utf-8\") as file:\n",
    "        writer = csv.writer(file)\n",
    "        writer.writerow([\"PMID\", \"Title\", \"Abstract\"])\n",
    "        writer.writerows(data)\n",
    "\n",
    "if __name__ == \"__main__\":\n",
    "    records = fetch_pubmed_data(pmid_list)\n",
    "    data = extract_title_abstract(records)\n",
    "    save_to_csv(data, output_file)\n",
    "    print(f\"Data saved to {output_file}\")\n"
   ]
  }
 ],
 "metadata": {
  "kernelspec": {
   "display_name": "Python 3",
   "language": "python",
   "name": "python3"
  },
  "language_info": {
   "codemirror_mode": {
    "name": "ipython",
    "version": 3
   },
   "file_extension": ".py",
   "mimetype": "text/x-python",
   "name": "python",
   "nbconvert_exporter": "python",
   "pygments_lexer": "ipython3",
   "version": "3.12.6"
  }
 },
 "nbformat": 4,
 "nbformat_minor": 2
}

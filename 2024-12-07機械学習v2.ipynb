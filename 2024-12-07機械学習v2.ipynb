{
 "cells": [
  {
   "cell_type": "markdown",
   "metadata": {},
   "source": [
    "# 最初から機械学習でやってみる"
   ]
  },
  {
   "cell_type": "code",
   "execution_count": 7,
   "metadata": {},
   "outputs": [],
   "source": [
    "import os\n",
    "import json\n",
    "import time\n",
    "import glob\n",
    "from typing import TypeVar, Type, List, Optional\n",
    "from dataclasses import dataclass\n",
    "from pydantic import BaseModel\n",
    "import pandas as pd\n",
    "import numpy as np\n",
    "from sklearn.metrics import confusion_matrix\n",
    "import seaborn as sns\n",
    "import matplotlib.pyplot as plt\n",
    "from openai import AzureOpenAI\n",
    "from tqdm import tqdm\n",
    "from typing import List, Dict, Optional, Any, Tuple"
   ]
  },
  {
   "cell_type": "code",
   "execution_count": 8,
   "metadata": {},
   "outputs": [
    {
     "name": "stdout",
     "output_type": "stream",
     "text": [
      "['extracted_500_first_20241130_検索結果1204.csv', 'pubmed_true_data.csv']\n"
     ]
    }
   ],
   "source": [
    "csv_files = glob.glob('*.csv')\n",
    "print(csv_files)"
   ]
  },
  {
   "cell_type": "code",
   "execution_count": 9,
   "metadata": {},
   "outputs": [
    {
     "name": "stdout",
     "output_type": "stream",
     "text": [
      "included\n",
      "False    493\n",
      "True       7\n",
      "Name: count, dtype: int64\n",
      "不一致の数: 0\n"
     ]
    }
   ],
   "source": [
    "df = pd.read_csv(csv_files[0])\n",
    "# Assuming your dataframe is named 'df'\n",
    "df['included'] = df['notes'].astype(str).str.contains('Included')\n",
    "\n",
    "print(df['included'].value_counts())\n",
    "print(f'不一致の数: {df[df[\"included\"] == True][\"notes\"].str.contains(\"Excluded\").sum()}')\n",
    "#予測の元となる変数\n",
    "\n",
    "import json\n",
    "\n",
    "def create_json_text(row):\n",
    "    return json.dumps({\n",
    "        'title': str(row['title']),\n",
    "        'abstract': str(row['abstract'])\n",
    "    })\n",
    "\n",
    "df['tiab'] = df.apply(create_json_text, axis=1)"
   ]
  },
  {
   "cell_type": "code",
   "execution_count": 14,
   "metadata": {},
   "outputs": [],
   "source": [
    "import numpy as np\n",
    "import pandas as pd\n",
    "from sklearn.feature_extraction.text import TfidfVectorizer\n",
    "from sklearn.model_selection import StratifiedKFold\n",
    "from sklearn.metrics import confusion_matrix, classification_report\n",
    "import optuna\n",
    "from lightgbm import LGBMClassifier\n",
    "\n",
    "def prepare_text_data(df, text_column='tiab', label_column='included'):\n",
    "    \"\"\"テキストデータの前処理とTF-IDF変換\"\"\"\n",
    "    texts = df[text_column].fillna('')\n",
    "\n",
    "    vectorizer = TfidfVectorizer(\n",
    "        max_features=10000,\n",
    "        min_df=2,\n",
    "        max_df=0.95,\n",
    "        ngram_range=(1, 2)\n",
    "    )\n",
    "\n",
    "    X_vec = vectorizer.fit_transform(texts)\n",
    "    y = df[label_column]\n",
    "\n",
    "    class_weights = dict(zip(\n",
    "        y.unique(),\n",
    "        [1 / (len(y) * (y == label).mean()) for label in y.unique()]\n",
    "    ))\n",
    "\n",
    "    return X_vec, y, vectorizer, class_weights\n",
    "\n",
    "def fbeta_score_custom(y_true, y_pred, beta=1):\n",
    "    \"\"\"カスタムF-betaスコアの計算\"\"\"\n",
    "    tn, fp, fn, tp = confusion_matrix(y_true, y_pred, labels=[0,1]).ravel()\n",
    "    precision = tp / (tp + fp) if (tp + fp) > 0 else 0.0\n",
    "    recall = tp / (tp + fn) if (tp + fn) > 0 else 0.0\n",
    "    if precision == 0.0 and recall == 0.0:\n",
    "        return 0.0\n",
    "    fbeta = (1 + beta**2) * (precision * recall) / ((beta**2 * precision) + recall)\n",
    "    return fbeta\n",
    "\n",
    "def calculate_detailed_metrics(y_true, y_pred):\n",
    "    \"\"\"詳細な評価指標の計算と表示\"\"\"\n",
    "    tn, fp, fn, tp = confusion_matrix(y_true, y_pred, labels=[0,1]).ravel()\n",
    "\n",
    "    sensitivity = tp / (tp + fn) if (tp + fn) > 0 else 0\n",
    "    specificity = tn / (tn + fp) if (tn + fp) > 0 else 0\n",
    "    precision = tp / (tp + fp) if (tp + fp) > 0 else 0\n",
    "    f1 = 2 * (precision * sensitivity) / (precision + sensitivity) if (precision + sensitivity) > 0 else 0\n",
    "\n",
    "    print(\"\\n=== 詳細な評価指標 ===\")\n",
    "    print(f\"感度 (Sensitivity/Recall): {sensitivity:.3f}\")\n",
    "    print(f\"特異度 (Specificity): {specificity:.3f}\")\n",
    "    print(f\"適合率 (Precision): {precision:.3f}\")\n",
    "    print(f\"F1スコア: {f1:.3f}\")\n",
    "\n",
    "    print(\"\\n=== 混同行列 ===\")\n",
    "    print(\"                  Predicted\")\n",
    "    print(\"                  Negative  Positive\")\n",
    "    print(f\"Actual Negative    {tn:^8} {fp:^8}\")\n",
    "    print(f\"      Positive    {fn:^8} {tp:^8}\")\n",
    "\n",
    "    return {\n",
    "        'sensitivity': sensitivity,\n",
    "        'specificity': specificity,\n",
    "        'precision': precision,\n",
    "        'f1': f1,\n",
    "        'confusion_matrix': {'tn': tn, 'fp': fp, 'fn': fn, 'tp': tp}\n",
    "    }\n",
    "\n",
    "def evaluate_model(X_vec, y, params, threshold, class_weights, beta=2):\n",
    "    \"\"\"モデルの評価（交差検証）\"\"\"\n",
    "    skf = StratifiedKFold(n_splits=5, shuffle=True, random_state=42)\n",
    "    scores = []\n",
    "    all_predictions = []\n",
    "    all_true_values = []\n",
    "\n",
    "    for train_idx, val_idx in skf.split(X_vec, y):\n",
    "        X_tr = X_vec[train_idx]\n",
    "        X_val = X_vec[val_idx]\n",
    "        y_tr = y.iloc[train_idx]\n",
    "        y_val = y.iloc[val_idx]\n",
    "\n",
    "        model = LGBMClassifier(\n",
    "            **params,\n",
    "            random_state=42,\n",
    "            class_weight=class_weights\n",
    "        )\n",
    "\n",
    "        model.fit(X_tr, y_tr)\n",
    "        y_prob = model.predict_proba(X_val)[:, 1]\n",
    "        y_pred = (y_prob >= threshold).astype(int)\n",
    "\n",
    "        score = fbeta_score_custom(y_val, y_pred, beta=beta)\n",
    "        scores.append(score)\n",
    "\n",
    "        all_predictions.extend(y_pred)\n",
    "        all_true_values.extend(y_val)\n",
    "\n",
    "    if len(scores) == 5:\n",
    "        print(\"\\n=== 交差検証全体の評価 ===\")\n",
    "        metrics = calculate_detailed_metrics(all_true_values, all_predictions)\n",
    "        print(\"\\nClassification Report:\")\n",
    "        print(classification_report(all_true_values, all_predictions))\n",
    "\n",
    "    return np.mean(scores)\n",
    "\n",
    "def objective(trial, X_vec, y, class_weights, beta=2):\n",
    "    \"\"\"Optunaの目的関数\"\"\"\n",
    "    params = {\n",
    "        \"num_leaves\": trial.suggest_int(\"num_leaves\", 8, 128),\n",
    "        \"learning_rate\": trial.suggest_float(\"learning_rate\", 1e-3, 0.3, log=True),\n",
    "        \"n_estimators\": trial.suggest_int(\"n_estimators\", 50, 500),\n",
    "        \"reg_lambda\": trial.suggest_float(\"reg_lambda\", 1e-3, 10.0, log=True),\n",
    "        \"min_child_samples\": trial.suggest_int(\"min_child_samples\", 5, 100),\n",
    "        \"verbosity\": -1\n",
    "    }\n",
    "    threshold = trial.suggest_float(\"threshold\", 0.1, 0.9)\n",
    "\n",
    "    score = evaluate_model(X_vec, y, params, threshold, class_weights, beta=beta)\n",
    "    return score\n",
    "\n",
    "def train_final_model(df, beta_value=2, n_trials=50):\n",
    "    \"\"\"完全なトレーニングパイプライン\"\"\"\n",
    "    # データの準備\n",
    "    X_vec, y, vectorizer, class_weights = prepare_text_data(df)\n",
    "\n",
    "    print(f\"データセットの形状: {X_vec.shape}\")\n",
    "    print(f\"クラスの分布:\\n{y.value_counts(normalize=True)}\")\n",
    "    print(f\"クラスの重み: {class_weights}\")\n",
    "\n",
    "    # ハイパーパラメータの最適化\n",
    "    study = optuna.create_study(direction=\"maximize\")\n",
    "    study.optimize(\n",
    "        lambda trial: objective(trial, X_vec, y, class_weights, beta=beta_value),\n",
    "        n_trials=n_trials\n",
    "    )\n",
    "\n",
    "    best_params = study.best_trial.params\n",
    "    threshold = best_params.pop(\"threshold\")\n",
    "\n",
    "    print(\"\\nBest parameters:\", best_params)\n",
    "    print(\"Best threshold:\", threshold)\n",
    "\n",
    "    final_score = evaluate_model(X_vec, y, best_params, threshold, class_weights, beta=beta_value)\n",
    "    print(f\"\\nFinal Mean F{beta_value} Score:\", final_score)\n",
    "\n",
    "    # 最終モデルの学習\n",
    "    final_model = LGBMClassifier(\n",
    "        **best_params,\n",
    "        random_state=42,\n",
    "        class_weight=class_weights\n",
    "    )\n",
    "    final_model.fit(X_vec, y)\n",
    "\n",
    "    # 最終評価\n",
    "    print(\"\\n=== 最終モデルの評価（全データ） ===\")\n",
    "    y_prob = final_model.predict_proba(X_vec)[:, 1]\n",
    "    y_pred = (y_prob >= threshold).astype(int)\n",
    "    final_metrics = calculate_detailed_metrics(y, y_pred)\n",
    "\n",
    "    return final_model, vectorizer, threshold, best_params\n",
    "\n",
    "def predict_new_text(text, model, vectorizer, threshold):\n",
    "    \"\"\"新しいテキストの予測\"\"\"\n",
    "    X_new = vectorizer.transform([text])\n",
    "    prob = model.predict_proba(X_new)[0, 1]\n",
    "    prediction = prob >= threshold\n",
    "    return prediction, prob\n",
    "\n"
   ]
  },
  {
   "cell_type": "code",
   "execution_count": 15,
   "metadata": {},
   "outputs": [
    {
     "name": "stderr",
     "output_type": "stream",
     "text": [
      "[I 2024-12-07 08:43:28,467] A new study created in memory with name: no-name-e1d0eb7e-c3f2-46ee-9206-27933ba53b0f\n"
     ]
    },
    {
     "name": "stdout",
     "output_type": "stream",
     "text": [
      "データセットの形状: (500, 10000)\n",
      "クラスの分布:\n",
      "included\n",
      "False    0.986\n",
      "True     0.014\n",
      "Name: proportion, dtype: float64\n",
      "クラスの重み: {np.False_: np.float64(0.002028397565922921), np.True_: np.float64(0.14285714285714285)}\n"
     ]
    },
    {
     "name": "stderr",
     "output_type": "stream",
     "text": [
      "[I 2024-12-07 08:43:31,733] Trial 0 finished with value: 0.1619047619047619 and parameters: {'num_leaves': 76, 'learning_rate': 0.0251301969404423, 'n_estimators': 221, 'reg_lambda': 0.004093897052729685, 'min_child_samples': 13, 'threshold': 0.11723547712465986}. Best is trial 0 with value: 0.1619047619047619.\n"
     ]
    },
    {
     "name": "stdout",
     "output_type": "stream",
     "text": [
      "\n",
      "=== 交差検証全体の評価 ===\n",
      "\n",
      "=== 詳細な評価指標 ===\n",
      "感度 (Sensitivity/Recall): 0.143\n",
      "特異度 (Specificity): 0.980\n",
      "適合率 (Precision): 0.091\n",
      "F1スコア: 0.111\n",
      "\n",
      "=== 混同行列 ===\n",
      "                  Predicted\n",
      "                  Negative  Positive\n",
      "Actual Negative      483       10   \n",
      "      Positive       6        1    \n",
      "\n",
      "Classification Report:\n",
      "              precision    recall  f1-score   support\n",
      "\n",
      "       False       0.99      0.98      0.98       493\n",
      "        True       0.09      0.14      0.11         7\n",
      "\n",
      "    accuracy                           0.97       500\n",
      "   macro avg       0.54      0.56      0.55       500\n",
      "weighted avg       0.98      0.97      0.97       500\n",
      "\n"
     ]
    },
    {
     "name": "stderr",
     "output_type": "stream",
     "text": [
      "C:\\Users\\youki\\AppData\\Roaming\\Python\\Python312\\site-packages\\sklearn\\metrics\\_classification.py:1531: UndefinedMetricWarning: Precision is ill-defined and being set to 0.0 in labels with no predicted samples. Use `zero_division` parameter to control this behavior.\n",
      "  _warn_prf(average, modifier, f\"{metric.capitalize()} is\", len(result))\n",
      "C:\\Users\\youki\\AppData\\Roaming\\Python\\Python312\\site-packages\\sklearn\\metrics\\_classification.py:1531: UndefinedMetricWarning: Precision is ill-defined and being set to 0.0 in labels with no predicted samples. Use `zero_division` parameter to control this behavior.\n",
      "  _warn_prf(average, modifier, f\"{metric.capitalize()} is\", len(result))\n",
      "C:\\Users\\youki\\AppData\\Roaming\\Python\\Python312\\site-packages\\sklearn\\metrics\\_classification.py:1531: UndefinedMetricWarning: Precision is ill-defined and being set to 0.0 in labels with no predicted samples. Use `zero_division` parameter to control this behavior.\n",
      "  _warn_prf(average, modifier, f\"{metric.capitalize()} is\", len(result))\n",
      "[I 2024-12-07 08:43:33,236] Trial 1 finished with value: 0.19096133751306166 and parameters: {'num_leaves': 80, 'learning_rate': 0.0029227290249230985, 'n_estimators': 301, 'reg_lambda': 4.01762225160193, 'min_child_samples': 58, 'threshold': 0.3892638318263474}. Best is trial 1 with value: 0.19096133751306166.\n"
     ]
    },
    {
     "name": "stdout",
     "output_type": "stream",
     "text": [
      "\n",
      "=== 交差検証全体の評価 ===\n",
      "\n",
      "=== 詳細な評価指標 ===\n",
      "感度 (Sensitivity/Recall): 1.000\n",
      "特異度 (Specificity): 0.000\n",
      "適合率 (Precision): 0.014\n",
      "F1スコア: 0.028\n",
      "\n",
      "=== 混同行列 ===\n",
      "                  Predicted\n",
      "                  Negative  Positive\n",
      "Actual Negative       0       493   \n",
      "      Positive       0        7    \n",
      "\n",
      "Classification Report:\n",
      "              precision    recall  f1-score   support\n",
      "\n",
      "       False       0.00      0.00      0.00       493\n",
      "        True       0.01      1.00      0.03         7\n",
      "\n",
      "    accuracy                           0.01       500\n",
      "   macro avg       0.01      0.50      0.01       500\n",
      "weighted avg       0.00      0.01      0.00       500\n",
      "\n"
     ]
    },
    {
     "name": "stderr",
     "output_type": "stream",
     "text": [
      "[I 2024-12-07 08:43:34,659] Trial 2 finished with value: 0.0 and parameters: {'num_leaves': 47, 'learning_rate': 0.004723800251722145, 'n_estimators': 216, 'reg_lambda': 1.7259404683849873, 'min_child_samples': 37, 'threshold': 0.5299693383273998}. Best is trial 1 with value: 0.19096133751306166.\n"
     ]
    },
    {
     "name": "stdout",
     "output_type": "stream",
     "text": [
      "\n",
      "=== 交差検証全体の評価 ===\n",
      "\n",
      "=== 詳細な評価指標 ===\n",
      "感度 (Sensitivity/Recall): 0.000\n",
      "特異度 (Specificity): 0.959\n",
      "適合率 (Precision): 0.000\n",
      "F1スコア: 0.000\n",
      "\n",
      "=== 混同行列 ===\n",
      "                  Predicted\n",
      "                  Negative  Positive\n",
      "Actual Negative      473       20   \n",
      "      Positive       7        0    \n",
      "\n",
      "Classification Report:\n",
      "              precision    recall  f1-score   support\n",
      "\n",
      "       False       0.99      0.96      0.97       493\n",
      "        True       0.00      0.00      0.00         7\n",
      "\n",
      "    accuracy                           0.95       500\n",
      "   macro avg       0.49      0.48      0.49       500\n",
      "weighted avg       0.97      0.95      0.96       500\n",
      "\n"
     ]
    },
    {
     "name": "stderr",
     "output_type": "stream",
     "text": [
      "[I 2024-12-07 08:43:35,886] Trial 3 finished with value: 0.28190410199556537 and parameters: {'num_leaves': 64, 'learning_rate': 0.0030301292486102807, 'n_estimators': 336, 'reg_lambda': 0.01705486589753941, 'min_child_samples': 98, 'threshold': 0.28280577223852565}. Best is trial 3 with value: 0.28190410199556537.\n"
     ]
    },
    {
     "name": "stdout",
     "output_type": "stream",
     "text": [
      "\n",
      "=== 交差検証全体の評価 ===\n",
      "\n",
      "=== 詳細な評価指標 ===\n",
      "感度 (Sensitivity/Recall): 0.857\n",
      "特異度 (Specificity): 0.535\n",
      "適合率 (Precision): 0.026\n",
      "F1スコア: 0.050\n",
      "\n",
      "=== 混同行列 ===\n",
      "                  Predicted\n",
      "                  Negative  Positive\n",
      "Actual Negative      264      229   \n",
      "      Positive       1        6    \n",
      "\n",
      "Classification Report:\n",
      "              precision    recall  f1-score   support\n",
      "\n",
      "       False       1.00      0.54      0.70       493\n",
      "        True       0.03      0.86      0.05         7\n",
      "\n",
      "    accuracy                           0.54       500\n",
      "   macro avg       0.51      0.70      0.37       500\n",
      "weighted avg       0.98      0.54      0.69       500\n",
      "\n"
     ]
    },
    {
     "name": "stderr",
     "output_type": "stream",
     "text": [
      "[I 2024-12-07 08:43:37,125] Trial 4 finished with value: 0.0 and parameters: {'num_leaves': 94, 'learning_rate': 0.021184195232166844, 'n_estimators': 60, 'reg_lambda': 0.003334401005889195, 'min_child_samples': 29, 'threshold': 0.7891492208977606}. Best is trial 3 with value: 0.28190410199556537.\n"
     ]
    },
    {
     "name": "stdout",
     "output_type": "stream",
     "text": [
      "\n",
      "=== 交差検証全体の評価 ===\n",
      "\n",
      "=== 詳細な評価指標 ===\n",
      "感度 (Sensitivity/Recall): 0.000\n",
      "特異度 (Specificity): 0.990\n",
      "適合率 (Precision): 0.000\n",
      "F1スコア: 0.000\n",
      "\n",
      "=== 混同行列 ===\n",
      "                  Predicted\n",
      "                  Negative  Positive\n",
      "Actual Negative      488       5    \n",
      "      Positive       7        0    \n",
      "\n",
      "Classification Report:\n",
      "              precision    recall  f1-score   support\n",
      "\n",
      "       False       0.99      0.99      0.99       493\n",
      "        True       0.00      0.00      0.00         7\n",
      "\n",
      "    accuracy                           0.98       500\n",
      "   macro avg       0.49      0.49      0.49       500\n",
      "weighted avg       0.97      0.98      0.97       500\n",
      "\n"
     ]
    },
    {
     "name": "stderr",
     "output_type": "stream",
     "text": [
      "[I 2024-12-07 08:43:38,371] Trial 5 finished with value: 0.1 and parameters: {'num_leaves': 23, 'learning_rate': 0.24290976919723986, 'n_estimators': 466, 'reg_lambda': 0.0035589570563803762, 'min_child_samples': 85, 'threshold': 0.16770469788484546}. Best is trial 3 with value: 0.28190410199556537.\n"
     ]
    },
    {
     "name": "stdout",
     "output_type": "stream",
     "text": [
      "\n",
      "=== 交差検証全体の評価 ===\n",
      "\n",
      "=== 詳細な評価指標 ===\n",
      "感度 (Sensitivity/Recall): 0.143\n",
      "特異度 (Specificity): 0.996\n",
      "適合率 (Precision): 0.333\n",
      "F1スコア: 0.200\n",
      "\n",
      "=== 混同行列 ===\n",
      "                  Predicted\n",
      "                  Negative  Positive\n",
      "Actual Negative      491       2    \n",
      "      Positive       6        1    \n",
      "\n",
      "Classification Report:\n",
      "              precision    recall  f1-score   support\n",
      "\n",
      "       False       0.99      1.00      0.99       493\n",
      "        True       0.33      0.14      0.20         7\n",
      "\n",
      "    accuracy                           0.98       500\n",
      "   macro avg       0.66      0.57      0.60       500\n",
      "weighted avg       0.98      0.98      0.98       500\n",
      "\n"
     ]
    },
    {
     "name": "stderr",
     "output_type": "stream",
     "text": [
      "C:\\Users\\youki\\AppData\\Roaming\\Python\\Python312\\site-packages\\sklearn\\metrics\\_classification.py:1531: UndefinedMetricWarning: Precision is ill-defined and being set to 0.0 in labels with no predicted samples. Use `zero_division` parameter to control this behavior.\n",
      "  _warn_prf(average, modifier, f\"{metric.capitalize()} is\", len(result))\n",
      "C:\\Users\\youki\\AppData\\Roaming\\Python\\Python312\\site-packages\\sklearn\\metrics\\_classification.py:1531: UndefinedMetricWarning: Precision is ill-defined and being set to 0.0 in labels with no predicted samples. Use `zero_division` parameter to control this behavior.\n",
      "  _warn_prf(average, modifier, f\"{metric.capitalize()} is\", len(result))\n",
      "C:\\Users\\youki\\AppData\\Roaming\\Python\\Python312\\site-packages\\sklearn\\metrics\\_classification.py:1531: UndefinedMetricWarning: Precision is ill-defined and being set to 0.0 in labels with no predicted samples. Use `zero_division` parameter to control this behavior.\n",
      "  _warn_prf(average, modifier, f\"{metric.capitalize()} is\", len(result))\n",
      "[I 2024-12-07 08:43:39,793] Trial 6 finished with value: 0.19096133751306166 and parameters: {'num_leaves': 114, 'learning_rate': 0.0015677756771254733, 'n_estimators': 436, 'reg_lambda': 0.09173890983588573, 'min_child_samples': 63, 'threshold': 0.12014987813222673}. Best is trial 3 with value: 0.28190410199556537.\n"
     ]
    },
    {
     "name": "stdout",
     "output_type": "stream",
     "text": [
      "\n",
      "=== 交差検証全体の評価 ===\n",
      "\n",
      "=== 詳細な評価指標 ===\n",
      "感度 (Sensitivity/Recall): 1.000\n",
      "特異度 (Specificity): 0.000\n",
      "適合率 (Precision): 0.014\n",
      "F1スコア: 0.028\n",
      "\n",
      "=== 混同行列 ===\n",
      "                  Predicted\n",
      "                  Negative  Positive\n",
      "Actual Negative       0       493   \n",
      "      Positive       0        7    \n",
      "\n",
      "Classification Report:\n",
      "              precision    recall  f1-score   support\n",
      "\n",
      "       False       0.00      0.00      0.00       493\n",
      "        True       0.01      1.00      0.03         7\n",
      "\n",
      "    accuracy                           0.01       500\n",
      "   macro avg       0.01      0.50      0.01       500\n",
      "weighted avg       0.00      0.01      0.00       500\n",
      "\n"
     ]
    },
    {
     "name": "stderr",
     "output_type": "stream",
     "text": [
      "C:\\Users\\youki\\AppData\\Roaming\\Python\\Python312\\site-packages\\sklearn\\metrics\\_classification.py:1531: UndefinedMetricWarning: Precision is ill-defined and being set to 0.0 in labels with no predicted samples. Use `zero_division` parameter to control this behavior.\n",
      "  _warn_prf(average, modifier, f\"{metric.capitalize()} is\", len(result))\n",
      "C:\\Users\\youki\\AppData\\Roaming\\Python\\Python312\\site-packages\\sklearn\\metrics\\_classification.py:1531: UndefinedMetricWarning: Precision is ill-defined and being set to 0.0 in labels with no predicted samples. Use `zero_division` parameter to control this behavior.\n",
      "  _warn_prf(average, modifier, f\"{metric.capitalize()} is\", len(result))\n",
      "C:\\Users\\youki\\AppData\\Roaming\\Python\\Python312\\site-packages\\sklearn\\metrics\\_classification.py:1531: UndefinedMetricWarning: Precision is ill-defined and being set to 0.0 in labels with no predicted samples. Use `zero_division` parameter to control this behavior.\n",
      "  _warn_prf(average, modifier, f\"{metric.capitalize()} is\", len(result))\n",
      "[I 2024-12-07 08:43:42,352] Trial 7 finished with value: 0.0 and parameters: {'num_leaves': 45, 'learning_rate': 0.0017679950751297254, 'n_estimators': 374, 'reg_lambda': 0.07367192354830651, 'min_child_samples': 27, 'threshold': 0.7827385567858356}. Best is trial 3 with value: 0.28190410199556537.\n"
     ]
    },
    {
     "name": "stdout",
     "output_type": "stream",
     "text": [
      "\n",
      "=== 交差検証全体の評価 ===\n",
      "\n",
      "=== 詳細な評価指標 ===\n",
      "感度 (Sensitivity/Recall): 0.000\n",
      "特異度 (Specificity): 1.000\n",
      "適合率 (Precision): 0.000\n",
      "F1スコア: 0.000\n",
      "\n",
      "=== 混同行列 ===\n",
      "                  Predicted\n",
      "                  Negative  Positive\n",
      "Actual Negative      493       0    \n",
      "      Positive       7        0    \n",
      "\n",
      "Classification Report:\n",
      "              precision    recall  f1-score   support\n",
      "\n",
      "       False       0.99      1.00      0.99       493\n",
      "        True       0.00      0.00      0.00         7\n",
      "\n",
      "    accuracy                           0.99       500\n",
      "   macro avg       0.49      0.50      0.50       500\n",
      "weighted avg       0.97      0.99      0.98       500\n",
      "\n"
     ]
    },
    {
     "name": "stderr",
     "output_type": "stream",
     "text": [
      "C:\\Users\\youki\\AppData\\Roaming\\Python\\Python312\\site-packages\\sklearn\\metrics\\_classification.py:1531: UndefinedMetricWarning: Precision is ill-defined and being set to 0.0 in labels with no predicted samples. Use `zero_division` parameter to control this behavior.\n",
      "  _warn_prf(average, modifier, f\"{metric.capitalize()} is\", len(result))\n",
      "C:\\Users\\youki\\AppData\\Roaming\\Python\\Python312\\site-packages\\sklearn\\metrics\\_classification.py:1531: UndefinedMetricWarning: Precision is ill-defined and being set to 0.0 in labels with no predicted samples. Use `zero_division` parameter to control this behavior.\n",
      "  _warn_prf(average, modifier, f\"{metric.capitalize()} is\", len(result))\n",
      "C:\\Users\\youki\\AppData\\Roaming\\Python\\Python312\\site-packages\\sklearn\\metrics\\_classification.py:1531: UndefinedMetricWarning: Precision is ill-defined and being set to 0.0 in labels with no predicted samples. Use `zero_division` parameter to control this behavior.\n",
      "  _warn_prf(average, modifier, f\"{metric.capitalize()} is\", len(result))\n",
      "[I 2024-12-07 08:43:43,298] Trial 8 finished with value: 0.0 and parameters: {'num_leaves': 92, 'learning_rate': 0.012367194740297746, 'n_estimators': 156, 'reg_lambda': 3.261685195449988, 'min_child_samples': 48, 'threshold': 0.8430578916417784}. Best is trial 3 with value: 0.28190410199556537.\n"
     ]
    },
    {
     "name": "stdout",
     "output_type": "stream",
     "text": [
      "\n",
      "=== 交差検証全体の評価 ===\n",
      "\n",
      "=== 詳細な評価指標 ===\n",
      "感度 (Sensitivity/Recall): 0.000\n",
      "特異度 (Specificity): 1.000\n",
      "適合率 (Precision): 0.000\n",
      "F1スコア: 0.000\n",
      "\n",
      "=== 混同行列 ===\n",
      "                  Predicted\n",
      "                  Negative  Positive\n",
      "Actual Negative      493       0    \n",
      "      Positive       7        0    \n",
      "\n",
      "Classification Report:\n",
      "              precision    recall  f1-score   support\n",
      "\n",
      "       False       0.99      1.00      0.99       493\n",
      "        True       0.00      0.00      0.00         7\n",
      "\n",
      "    accuracy                           0.99       500\n",
      "   macro avg       0.49      0.50      0.50       500\n",
      "weighted avg       0.97      0.99      0.98       500\n",
      "\n"
     ]
    },
    {
     "name": "stderr",
     "output_type": "stream",
     "text": [
      "C:\\Users\\youki\\AppData\\Roaming\\Python\\Python312\\site-packages\\sklearn\\metrics\\_classification.py:1531: UndefinedMetricWarning: Precision is ill-defined and being set to 0.0 in labels with no predicted samples. Use `zero_division` parameter to control this behavior.\n",
      "  _warn_prf(average, modifier, f\"{metric.capitalize()} is\", len(result))\n",
      "C:\\Users\\youki\\AppData\\Roaming\\Python\\Python312\\site-packages\\sklearn\\metrics\\_classification.py:1531: UndefinedMetricWarning: Precision is ill-defined and being set to 0.0 in labels with no predicted samples. Use `zero_division` parameter to control this behavior.\n",
      "  _warn_prf(average, modifier, f\"{metric.capitalize()} is\", len(result))\n",
      "C:\\Users\\youki\\AppData\\Roaming\\Python\\Python312\\site-packages\\sklearn\\metrics\\_classification.py:1531: UndefinedMetricWarning: Precision is ill-defined and being set to 0.0 in labels with no predicted samples. Use `zero_division` parameter to control this behavior.\n",
      "  _warn_prf(average, modifier, f\"{metric.capitalize()} is\", len(result))\n",
      "[I 2024-12-07 08:43:44,204] Trial 9 finished with value: 0.19096133751306166 and parameters: {'num_leaves': 10, 'learning_rate': 0.0041725922440056795, 'n_estimators': 244, 'reg_lambda': 0.743672950804456, 'min_child_samples': 96, 'threshold': 0.2351704378209866}. Best is trial 3 with value: 0.28190410199556537.\n"
     ]
    },
    {
     "name": "stdout",
     "output_type": "stream",
     "text": [
      "\n",
      "=== 交差検証全体の評価 ===\n",
      "\n",
      "=== 詳細な評価指標 ===\n",
      "感度 (Sensitivity/Recall): 1.000\n",
      "特異度 (Specificity): 0.000\n",
      "適合率 (Precision): 0.014\n",
      "F1スコア: 0.028\n",
      "\n",
      "=== 混同行列 ===\n",
      "                  Predicted\n",
      "                  Negative  Positive\n",
      "Actual Negative       0       493   \n",
      "      Positive       0        7    \n",
      "\n",
      "Classification Report:\n",
      "              precision    recall  f1-score   support\n",
      "\n",
      "       False       0.00      0.00      0.00       493\n",
      "        True       0.01      1.00      0.03         7\n",
      "\n",
      "    accuracy                           0.01       500\n",
      "   macro avg       0.01      0.50      0.01       500\n",
      "weighted avg       0.00      0.01      0.00       500\n",
      "\n"
     ]
    },
    {
     "name": "stderr",
     "output_type": "stream",
     "text": [
      "[I 2024-12-07 08:43:45,635] Trial 10 finished with value: 0.0 and parameters: {'num_leaves': 128, 'learning_rate': 0.08520637998887129, 'n_estimators': 353, 'reg_lambda': 0.019437819561725, 'min_child_samples': 77, 'threshold': 0.5003600520525294}. Best is trial 3 with value: 0.28190410199556537.\n"
     ]
    },
    {
     "name": "stdout",
     "output_type": "stream",
     "text": [
      "\n",
      "=== 交差検証全体の評価 ===\n",
      "\n",
      "=== 詳細な評価指標 ===\n",
      "感度 (Sensitivity/Recall): 0.000\n",
      "特異度 (Specificity): 0.998\n",
      "適合率 (Precision): 0.000\n",
      "F1スコア: 0.000\n",
      "\n",
      "=== 混同行列 ===\n",
      "                  Predicted\n",
      "                  Negative  Positive\n",
      "Actual Negative      492       1    \n",
      "      Positive       7        0    \n",
      "\n",
      "Classification Report:\n",
      "              precision    recall  f1-score   support\n",
      "\n",
      "       False       0.99      1.00      0.99       493\n",
      "        True       0.00      0.00      0.00         7\n",
      "\n",
      "    accuracy                           0.98       500\n",
      "   macro avg       0.49      0.50      0.50       500\n",
      "weighted avg       0.97      0.98      0.98       500\n",
      "\n"
     ]
    },
    {
     "name": "stderr",
     "output_type": "stream",
     "text": [
      "[I 2024-12-07 08:43:46,790] Trial 11 finished with value: 0.2705855288647811 and parameters: {'num_leaves': 59, 'learning_rate': 0.004852020551742182, 'n_estimators': 323, 'reg_lambda': 0.4463991979689878, 'min_child_samples': 65, 'threshold': 0.34279233244333485}. Best is trial 3 with value: 0.28190410199556537.\n"
     ]
    },
    {
     "name": "stdout",
     "output_type": "stream",
     "text": [
      "\n",
      "=== 交差検証全体の評価 ===\n",
      "\n",
      "=== 詳細な評価指標 ===\n",
      "感度 (Sensitivity/Recall): 1.000\n",
      "特異度 (Specificity): 0.225\n",
      "適合率 (Precision): 0.018\n",
      "F1スコア: 0.035\n",
      "\n",
      "=== 混同行列 ===\n",
      "                  Predicted\n",
      "                  Negative  Positive\n",
      "Actual Negative      111      382   \n",
      "      Positive       0        7    \n",
      "\n",
      "Classification Report:\n",
      "              precision    recall  f1-score   support\n",
      "\n",
      "       False       1.00      0.23      0.37       493\n",
      "        True       0.02      1.00      0.04         7\n",
      "\n",
      "    accuracy                           0.24       500\n",
      "   macro avg       0.51      0.61      0.20       500\n",
      "weighted avg       0.99      0.24      0.36       500\n",
      "\n"
     ]
    },
    {
     "name": "stderr",
     "output_type": "stream",
     "text": [
      "[I 2024-12-07 08:43:48,096] Trial 12 finished with value: 0.3136284973022002 and parameters: {'num_leaves': 57, 'learning_rate': 0.00948725055624355, 'n_estimators': 339, 'reg_lambda': 0.28458344184834894, 'min_child_samples': 70, 'threshold': 0.3366346637118037}. Best is trial 12 with value: 0.3136284973022002.\n"
     ]
    },
    {
     "name": "stdout",
     "output_type": "stream",
     "text": [
      "\n",
      "=== 交差検証全体の評価 ===\n",
      "\n",
      "=== 詳細な評価指標 ===\n",
      "感度 (Sensitivity/Recall): 0.857\n",
      "特異度 (Specificity): 0.606\n",
      "適合率 (Precision): 0.030\n",
      "F1スコア: 0.058\n",
      "\n",
      "=== 混同行列 ===\n",
      "                  Predicted\n",
      "                  Negative  Positive\n",
      "Actual Negative      299      194   \n",
      "      Positive       1        6    \n",
      "\n",
      "Classification Report:\n",
      "              precision    recall  f1-score   support\n",
      "\n",
      "       False       1.00      0.61      0.75       493\n",
      "        True       0.03      0.86      0.06         7\n",
      "\n",
      "    accuracy                           0.61       500\n",
      "   macro avg       0.51      0.73      0.41       500\n",
      "weighted avg       0.98      0.61      0.74       500\n",
      "\n"
     ]
    },
    {
     "name": "stderr",
     "output_type": "stream",
     "text": [
      "[I 2024-12-07 08:43:49,308] Trial 13 finished with value: 0.17435897435897435 and parameters: {'num_leaves': 38, 'learning_rate': 0.013950897312353175, 'n_estimators': 408, 'reg_lambda': 0.02268864499345206, 'min_child_samples': 82, 'threshold': 0.3235777525407526}. Best is trial 12 with value: 0.3136284973022002.\n"
     ]
    },
    {
     "name": "stdout",
     "output_type": "stream",
     "text": [
      "\n",
      "=== 交差検証全体の評価 ===\n",
      "\n",
      "=== 詳細な評価指標 ===\n",
      "感度 (Sensitivity/Recall): 0.286\n",
      "特異度 (Specificity): 0.943\n",
      "適合率 (Precision): 0.067\n",
      "F1スコア: 0.108\n",
      "\n",
      "=== 混同行列 ===\n",
      "                  Predicted\n",
      "                  Negative  Positive\n",
      "Actual Negative      465       28   \n",
      "      Positive       5        2    \n",
      "\n",
      "Classification Report:\n",
      "              precision    recall  f1-score   support\n",
      "\n",
      "       False       0.99      0.94      0.97       493\n",
      "        True       0.07      0.29      0.11         7\n",
      "\n",
      "    accuracy                           0.93       500\n",
      "   macro avg       0.53      0.61      0.54       500\n",
      "weighted avg       0.98      0.93      0.95       500\n",
      "\n"
     ]
    },
    {
     "name": "stderr",
     "output_type": "stream",
     "text": [
      "[I 2024-12-07 08:43:50,900] Trial 14 finished with value: 0.08095238095238096 and parameters: {'num_leaves': 60, 'learning_rate': 0.009829801962202688, 'n_estimators': 496, 'reg_lambda': 0.2974765709015301, 'min_child_samples': 98, 'threshold': 0.5889061339761256}. Best is trial 12 with value: 0.3136284973022002.\n"
     ]
    },
    {
     "name": "stdout",
     "output_type": "stream",
     "text": [
      "\n",
      "=== 交差検証全体の評価 ===\n",
      "\n",
      "=== 詳細な評価指標 ===\n",
      "感度 (Sensitivity/Recall): 0.143\n",
      "特異度 (Specificity): 0.907\n",
      "適合率 (Precision): 0.021\n",
      "F1スコア: 0.037\n",
      "\n",
      "=== 混同行列 ===\n",
      "                  Predicted\n",
      "                  Negative  Positive\n",
      "Actual Negative      447       46   \n",
      "      Positive       6        1    \n",
      "\n",
      "Classification Report:\n",
      "              precision    recall  f1-score   support\n",
      "\n",
      "       False       0.99      0.91      0.95       493\n",
      "        True       0.02      0.14      0.04         7\n",
      "\n",
      "    accuracy                           0.90       500\n",
      "   macro avg       0.50      0.52      0.49       500\n",
      "weighted avg       0.97      0.90      0.93       500\n",
      "\n"
     ]
    },
    {
     "name": "stderr",
     "output_type": "stream",
     "text": [
      "[I 2024-12-07 08:43:52,568] Trial 15 finished with value: 0.0 and parameters: {'num_leaves': 33, 'learning_rate': 0.03596782671471688, 'n_estimators': 294, 'reg_lambda': 0.01554980614511453, 'min_child_samples': 72, 'threshold': 0.25905505548564756}. Best is trial 12 with value: 0.3136284973022002.\n"
     ]
    },
    {
     "name": "stdout",
     "output_type": "stream",
     "text": [
      "\n",
      "=== 交差検証全体の評価 ===\n",
      "\n",
      "=== 詳細な評価指標 ===\n",
      "感度 (Sensitivity/Recall): 0.000\n",
      "特異度 (Specificity): 0.972\n",
      "適合率 (Precision): 0.000\n",
      "F1スコア: 0.000\n",
      "\n",
      "=== 混同行列 ===\n",
      "                  Predicted\n",
      "                  Negative  Positive\n",
      "Actual Negative      479       14   \n",
      "      Positive       7        0    \n",
      "\n",
      "Classification Report:\n",
      "              precision    recall  f1-score   support\n",
      "\n",
      "       False       0.99      0.97      0.98       493\n",
      "        True       0.00      0.00      0.00         7\n",
      "\n",
      "    accuracy                           0.96       500\n",
      "   macro avg       0.49      0.49      0.49       500\n",
      "weighted avg       0.97      0.96      0.96       500\n",
      "\n"
     ]
    },
    {
     "name": "stderr",
     "output_type": "stream",
     "text": [
      "C:\\Users\\youki\\AppData\\Roaming\\Python\\Python312\\site-packages\\sklearn\\metrics\\_classification.py:1531: UndefinedMetricWarning: Precision is ill-defined and being set to 0.0 in labels with no predicted samples. Use `zero_division` parameter to control this behavior.\n",
      "  _warn_prf(average, modifier, f\"{metric.capitalize()} is\", len(result))\n",
      "C:\\Users\\youki\\AppData\\Roaming\\Python\\Python312\\site-packages\\sklearn\\metrics\\_classification.py:1531: UndefinedMetricWarning: Precision is ill-defined and being set to 0.0 in labels with no predicted samples. Use `zero_division` parameter to control this behavior.\n",
      "  _warn_prf(average, modifier, f\"{metric.capitalize()} is\", len(result))\n",
      "C:\\Users\\youki\\AppData\\Roaming\\Python\\Python312\\site-packages\\sklearn\\metrics\\_classification.py:1531: UndefinedMetricWarning: Precision is ill-defined and being set to 0.0 in labels with no predicted samples. Use `zero_division` parameter to control this behavior.\n",
      "  _warn_prf(average, modifier, f\"{metric.capitalize()} is\", len(result))\n",
      "[I 2024-12-07 08:43:53,967] Trial 16 finished with value: 0.19096133751306166 and parameters: {'num_leaves': 65, 'learning_rate': 0.0011780932940602888, 'n_estimators': 386, 'reg_lambda': 9.748418056648548, 'min_child_samples': 92, 'threshold': 0.44456512252221037}. Best is trial 12 with value: 0.3136284973022002.\n"
     ]
    },
    {
     "name": "stdout",
     "output_type": "stream",
     "text": [
      "\n",
      "=== 交差検証全体の評価 ===\n",
      "\n",
      "=== 詳細な評価指標 ===\n",
      "感度 (Sensitivity/Recall): 1.000\n",
      "特異度 (Specificity): 0.000\n",
      "適合率 (Precision): 0.014\n",
      "F1スコア: 0.028\n",
      "\n",
      "=== 混同行列 ===\n",
      "                  Predicted\n",
      "                  Negative  Positive\n",
      "Actual Negative       0       493   \n",
      "      Positive       0        7    \n",
      "\n",
      "Classification Report:\n",
      "              precision    recall  f1-score   support\n",
      "\n",
      "       False       0.00      0.00      0.00       493\n",
      "        True       0.01      1.00      0.03         7\n",
      "\n",
      "    accuracy                           0.01       500\n",
      "   macro avg       0.01      0.50      0.01       500\n",
      "weighted avg       0.00      0.01      0.00       500\n",
      "\n"
     ]
    },
    {
     "name": "stderr",
     "output_type": "stream",
     "text": [
      "[I 2024-12-07 08:43:55,586] Trial 17 finished with value: 0.0 and parameters: {'num_leaves': 92, 'learning_rate': 0.00863160082408215, 'n_estimators': 158, 'reg_lambda': 0.20905867297892994, 'min_child_samples': 52, 'threshold': 0.6448945433648662}. Best is trial 12 with value: 0.3136284973022002.\n"
     ]
    },
    {
     "name": "stdout",
     "output_type": "stream",
     "text": [
      "\n",
      "=== 交差検証全体の評価 ===\n",
      "\n",
      "=== 詳細な評価指標 ===\n",
      "感度 (Sensitivity/Recall): 0.000\n",
      "特異度 (Specificity): 0.994\n",
      "適合率 (Precision): 0.000\n",
      "F1スコア: 0.000\n",
      "\n",
      "=== 混同行列 ===\n",
      "                  Predicted\n",
      "                  Negative  Positive\n",
      "Actual Negative      490       3    \n",
      "      Positive       7        0    \n",
      "\n",
      "Classification Report:\n",
      "              precision    recall  f1-score   support\n",
      "\n",
      "       False       0.99      0.99      0.99       493\n",
      "        True       0.00      0.00      0.00         7\n",
      "\n",
      "    accuracy                           0.98       500\n",
      "   macro avg       0.49      0.50      0.49       500\n",
      "weighted avg       0.97      0.98      0.98       500\n",
      "\n"
     ]
    },
    {
     "name": "stderr",
     "output_type": "stream",
     "text": [
      "[I 2024-12-07 08:43:56,909] Trial 18 finished with value: 0.0 and parameters: {'num_leaves': 53, 'learning_rate': 0.07392032402386872, 'n_estimators': 339, 'reg_lambda': 0.0010974430255517888, 'min_child_samples': 71, 'threshold': 0.24410334150548146}. Best is trial 12 with value: 0.3136284973022002.\n"
     ]
    },
    {
     "name": "stdout",
     "output_type": "stream",
     "text": [
      "\n",
      "=== 交差検証全体の評価 ===\n",
      "\n",
      "=== 詳細な評価指標 ===\n",
      "感度 (Sensitivity/Recall): 0.000\n",
      "特異度 (Specificity): 0.996\n",
      "適合率 (Precision): 0.000\n",
      "F1スコア: 0.000\n",
      "\n",
      "=== 混同行列 ===\n",
      "                  Predicted\n",
      "                  Negative  Positive\n",
      "Actual Negative      491       2    \n",
      "      Positive       7        0    \n",
      "\n",
      "Classification Report:\n",
      "              precision    recall  f1-score   support\n",
      "\n",
      "       False       0.99      1.00      0.99       493\n",
      "        True       0.00      0.00      0.00         7\n",
      "\n",
      "    accuracy                           0.98       500\n",
      "   macro avg       0.49      0.50      0.50       500\n",
      "weighted avg       0.97      0.98      0.98       500\n",
      "\n"
     ]
    },
    {
     "name": "stderr",
     "output_type": "stream",
     "text": [
      "[I 2024-12-07 08:43:57,917] Trial 19 finished with value: 0.2794865547119424 and parameters: {'num_leaves': 76, 'learning_rate': 0.007601866063584542, 'n_estimators': 261, 'reg_lambda': 0.045466124209956216, 'min_child_samples': 87, 'threshold': 0.40640267650728895}. Best is trial 12 with value: 0.3136284973022002.\n"
     ]
    },
    {
     "name": "stdout",
     "output_type": "stream",
     "text": [
      "\n",
      "=== 交差検証全体の評価 ===\n",
      "\n",
      "=== 詳細な評価指標 ===\n",
      "感度 (Sensitivity/Recall): 0.571\n",
      "特異度 (Specificity): 0.785\n",
      "適合率 (Precision): 0.036\n",
      "F1スコア: 0.068\n",
      "\n",
      "=== 混同行列 ===\n",
      "                  Predicted\n",
      "                  Negative  Positive\n",
      "Actual Negative      387      106   \n",
      "      Positive       3        4    \n",
      "\n",
      "Classification Report:\n",
      "              precision    recall  f1-score   support\n",
      "\n",
      "       False       0.99      0.78      0.88       493\n",
      "        True       0.04      0.57      0.07         7\n",
      "\n",
      "    accuracy                           0.78       500\n",
      "   macro avg       0.51      0.68      0.47       500\n",
      "weighted avg       0.98      0.78      0.87       500\n",
      "\n"
     ]
    },
    {
     "name": "stderr",
     "output_type": "stream",
     "text": [
      "[I 2024-12-07 08:43:59,584] Trial 20 finished with value: 0.0 and parameters: {'num_leaves': 25, 'learning_rate': 0.0025221369965576653, 'n_estimators': 423, 'reg_lambda': 0.008943414228586077, 'min_child_samples': 44, 'threshold': 0.6628640827028814}. Best is trial 12 with value: 0.3136284973022002.\n"
     ]
    },
    {
     "name": "stdout",
     "output_type": "stream",
     "text": [
      "\n",
      "=== 交差検証全体の評価 ===\n",
      "\n",
      "=== 詳細な評価指標 ===\n",
      "感度 (Sensitivity/Recall): 0.000\n",
      "特異度 (Specificity): 0.963\n",
      "適合率 (Precision): 0.000\n",
      "F1スコア: 0.000\n",
      "\n",
      "=== 混同行列 ===\n",
      "                  Predicted\n",
      "                  Negative  Positive\n",
      "Actual Negative      475       18   \n",
      "      Positive       7        0    \n",
      "\n",
      "Classification Report:\n",
      "              precision    recall  f1-score   support\n",
      "\n",
      "       False       0.99      0.96      0.97       493\n",
      "        True       0.00      0.00      0.00         7\n",
      "\n",
      "    accuracy                           0.95       500\n",
      "   macro avg       0.49      0.48      0.49       500\n",
      "weighted avg       0.97      0.95      0.96       500\n",
      "\n"
     ]
    },
    {
     "name": "stderr",
     "output_type": "stream",
     "text": [
      "[I 2024-12-07 08:44:00,642] Trial 21 finished with value: 0.2592328109201213 and parameters: {'num_leaves': 77, 'learning_rate': 0.006871953968599803, 'n_estimators': 260, 'reg_lambda': 0.0485929504598478, 'min_child_samples': 89, 'threshold': 0.4160842746480555}. Best is trial 12 with value: 0.3136284973022002.\n"
     ]
    },
    {
     "name": "stdout",
     "output_type": "stream",
     "text": [
      "\n",
      "=== 交差検証全体の評価 ===\n",
      "\n",
      "=== 詳細な評価指標 ===\n",
      "感度 (Sensitivity/Recall): 0.571\n",
      "特異度 (Specificity): 0.773\n",
      "適合率 (Precision): 0.034\n",
      "F1スコア: 0.065\n",
      "\n",
      "=== 混同行列 ===\n",
      "                  Predicted\n",
      "                  Negative  Positive\n",
      "Actual Negative      381      112   \n",
      "      Positive       3        4    \n",
      "\n",
      "Classification Report:\n",
      "              precision    recall  f1-score   support\n",
      "\n",
      "       False       0.99      0.77      0.87       493\n",
      "        True       0.03      0.57      0.07         7\n",
      "\n",
      "    accuracy                           0.77       500\n",
      "   macro avg       0.51      0.67      0.47       500\n",
      "weighted avg       0.98      0.77      0.86       500\n",
      "\n"
     ]
    },
    {
     "name": "stderr",
     "output_type": "stream",
     "text": [
      "[I 2024-12-07 08:44:01,442] Trial 22 finished with value: 0.28190410199556537 and parameters: {'num_leaves': 73, 'learning_rate': 0.006329781954977487, 'n_estimators': 175, 'reg_lambda': 0.03971313050356087, 'min_child_samples': 100, 'threshold': 0.31552672424070793}. Best is trial 12 with value: 0.3136284973022002.\n"
     ]
    },
    {
     "name": "stdout",
     "output_type": "stream",
     "text": [
      "\n",
      "=== 交差検証全体の評価 ===\n",
      "\n",
      "=== 詳細な評価指標 ===\n",
      "感度 (Sensitivity/Recall): 0.857\n",
      "特異度 (Specificity): 0.542\n",
      "適合率 (Precision): 0.026\n",
      "F1スコア: 0.050\n",
      "\n",
      "=== 混同行列 ===\n",
      "                  Predicted\n",
      "                  Negative  Positive\n",
      "Actual Negative      267      226   \n",
      "      Positive       1        6    \n",
      "\n",
      "Classification Report:\n",
      "              precision    recall  f1-score   support\n",
      "\n",
      "       False       1.00      0.54      0.70       493\n",
      "        True       0.03      0.86      0.05         7\n",
      "\n",
      "    accuracy                           0.55       500\n",
      "   macro avg       0.51      0.70      0.38       500\n",
      "weighted avg       0.98      0.55      0.69       500\n",
      "\n"
     ]
    },
    {
     "name": "stderr",
     "output_type": "stream",
     "text": [
      "C:\\Users\\youki\\AppData\\Roaming\\Python\\Python312\\site-packages\\sklearn\\metrics\\_classification.py:1531: UndefinedMetricWarning: Precision is ill-defined and being set to 0.0 in labels with no predicted samples. Use `zero_division` parameter to control this behavior.\n",
      "  _warn_prf(average, modifier, f\"{metric.capitalize()} is\", len(result))\n",
      "C:\\Users\\youki\\AppData\\Roaming\\Python\\Python312\\site-packages\\sklearn\\metrics\\_classification.py:1531: UndefinedMetricWarning: Precision is ill-defined and being set to 0.0 in labels with no predicted samples. Use `zero_division` parameter to control this behavior.\n",
      "  _warn_prf(average, modifier, f\"{metric.capitalize()} is\", len(result))\n",
      "C:\\Users\\youki\\AppData\\Roaming\\Python\\Python312\\site-packages\\sklearn\\metrics\\_classification.py:1531: UndefinedMetricWarning: Precision is ill-defined and being set to 0.0 in labels with no predicted samples. Use `zero_division` parameter to control this behavior.\n",
      "  _warn_prf(average, modifier, f\"{metric.capitalize()} is\", len(result))\n",
      "[I 2024-12-07 08:44:02,334] Trial 23 finished with value: 0.19096133751306166 and parameters: {'num_leaves': 69, 'learning_rate': 0.0028737947959449816, 'n_estimators': 165, 'reg_lambda': 0.16320640646872733, 'min_child_samples': 99, 'threshold': 0.303104389910844}. Best is trial 12 with value: 0.3136284973022002.\n"
     ]
    },
    {
     "name": "stdout",
     "output_type": "stream",
     "text": [
      "\n",
      "=== 交差検証全体の評価 ===\n",
      "\n",
      "=== 詳細な評価指標 ===\n",
      "感度 (Sensitivity/Recall): 1.000\n",
      "特異度 (Specificity): 0.000\n",
      "適合率 (Precision): 0.014\n",
      "F1スコア: 0.028\n",
      "\n",
      "=== 混同行列 ===\n",
      "                  Predicted\n",
      "                  Negative  Positive\n",
      "Actual Negative       0       493   \n",
      "      Positive       0        7    \n",
      "\n",
      "Classification Report:\n",
      "              precision    recall  f1-score   support\n",
      "\n",
      "       False       0.00      0.00      0.00       493\n",
      "        True       0.01      1.00      0.03         7\n",
      "\n",
      "    accuracy                           0.01       500\n",
      "   macro avg       0.01      0.50      0.01       500\n",
      "weighted avg       0.00      0.01      0.00       500\n",
      "\n"
     ]
    },
    {
     "name": "stderr",
     "output_type": "stream",
     "text": [
      "[I 2024-12-07 08:44:03,208] Trial 24 finished with value: 0.2113596800752764 and parameters: {'num_leaves': 109, 'learning_rate': 0.03549800635148116, 'n_estimators': 191, 'reg_lambda': 0.780740750788975, 'min_child_samples': 77, 'threshold': 0.19778206564089207}. Best is trial 12 with value: 0.3136284973022002.\n"
     ]
    },
    {
     "name": "stdout",
     "output_type": "stream",
     "text": [
      "\n",
      "=== 交差検証全体の評価 ===\n",
      "\n",
      "=== 詳細な評価指標 ===\n",
      "感度 (Sensitivity/Recall): 0.857\n",
      "特異度 (Specificity): 0.349\n",
      "適合率 (Precision): 0.018\n",
      "F1スコア: 0.036\n",
      "\n",
      "=== 混同行列 ===\n",
      "                  Predicted\n",
      "                  Negative  Positive\n",
      "Actual Negative      172      321   \n",
      "      Positive       1        6    \n",
      "\n",
      "Classification Report:\n",
      "              precision    recall  f1-score   support\n",
      "\n",
      "       False       0.99      0.35      0.52       493\n",
      "        True       0.02      0.86      0.04         7\n",
      "\n",
      "    accuracy                           0.36       500\n",
      "   macro avg       0.51      0.60      0.28       500\n",
      "weighted avg       0.98      0.36      0.51       500\n",
      "\n"
     ]
    },
    {
     "name": "stderr",
     "output_type": "stream",
     "text": [
      "C:\\Users\\youki\\AppData\\Roaming\\Python\\Python312\\site-packages\\sklearn\\metrics\\_classification.py:1531: UndefinedMetricWarning: Precision is ill-defined and being set to 0.0 in labels with no predicted samples. Use `zero_division` parameter to control this behavior.\n",
      "  _warn_prf(average, modifier, f\"{metric.capitalize()} is\", len(result))\n",
      "C:\\Users\\youki\\AppData\\Roaming\\Python\\Python312\\site-packages\\sklearn\\metrics\\_classification.py:1531: UndefinedMetricWarning: Precision is ill-defined and being set to 0.0 in labels with no predicted samples. Use `zero_division` parameter to control this behavior.\n",
      "  _warn_prf(average, modifier, f\"{metric.capitalize()} is\", len(result))\n",
      "C:\\Users\\youki\\AppData\\Roaming\\Python\\Python312\\site-packages\\sklearn\\metrics\\_classification.py:1531: UndefinedMetricWarning: Precision is ill-defined and being set to 0.0 in labels with no predicted samples. Use `zero_division` parameter to control this behavior.\n",
      "  _warn_prf(average, modifier, f\"{metric.capitalize()} is\", len(result))\n",
      "[I 2024-12-07 08:44:03,875] Trial 25 finished with value: 0.19096133751306166 and parameters: {'num_leaves': 53, 'learning_rate': 0.005273465936267655, 'n_estimators': 87, 'reg_lambda': 0.008938510487937949, 'min_child_samples': 99, 'threshold': 0.29121045157852843}. Best is trial 12 with value: 0.3136284973022002.\n"
     ]
    },
    {
     "name": "stdout",
     "output_type": "stream",
     "text": [
      "\n",
      "=== 交差検証全体の評価 ===\n",
      "\n",
      "=== 詳細な評価指標 ===\n",
      "感度 (Sensitivity/Recall): 1.000\n",
      "特異度 (Specificity): 0.000\n",
      "適合率 (Precision): 0.014\n",
      "F1スコア: 0.028\n",
      "\n",
      "=== 混同行列 ===\n",
      "                  Predicted\n",
      "                  Negative  Positive\n",
      "Actual Negative       0       493   \n",
      "      Positive       0        7    \n",
      "\n",
      "Classification Report:\n",
      "              precision    recall  f1-score   support\n",
      "\n",
      "       False       0.00      0.00      0.00       493\n",
      "        True       0.01      1.00      0.03         7\n",
      "\n",
      "    accuracy                           0.01       500\n",
      "   macro avg       0.01      0.50      0.01       500\n",
      "weighted avg       0.00      0.01      0.00       500\n",
      "\n"
     ]
    },
    {
     "name": "stderr",
     "output_type": "stream",
     "text": [
      "[I 2024-12-07 08:44:04,817] Trial 26 finished with value: 0.3319798598470154 and parameters: {'num_leaves': 87, 'learning_rate': 0.015557878258663196, 'n_estimators': 97, 'reg_lambda': 0.037316974565052, 'min_child_samples': 81, 'threshold': 0.3538510720869471}. Best is trial 26 with value: 0.3319798598470154.\n"
     ]
    },
    {
     "name": "stdout",
     "output_type": "stream",
     "text": [
      "\n",
      "=== 交差検証全体の評価 ===\n",
      "\n",
      "=== 詳細な評価指標 ===\n",
      "感度 (Sensitivity/Recall): 0.857\n",
      "特異度 (Specificity): 0.645\n",
      "適合率 (Precision): 0.033\n",
      "F1スコア: 0.064\n",
      "\n",
      "=== 混同行列 ===\n",
      "                  Predicted\n",
      "                  Negative  Positive\n",
      "Actual Negative      318      175   \n",
      "      Positive       1        6    \n",
      "\n",
      "Classification Report:\n",
      "              precision    recall  f1-score   support\n",
      "\n",
      "       False       1.00      0.65      0.78       493\n",
      "        True       0.03      0.86      0.06         7\n",
      "\n",
      "    accuracy                           0.65       500\n",
      "   macro avg       0.52      0.75      0.42       500\n",
      "weighted avg       0.98      0.65      0.77       500\n",
      "\n"
     ]
    },
    {
     "name": "stderr",
     "output_type": "stream",
     "text": [
      "[I 2024-12-07 08:44:05,747] Trial 27 finished with value: 0.3386454283021091 and parameters: {'num_leaves': 89, 'learning_rate': 0.016608812657268206, 'n_estimators': 118, 'reg_lambda': 0.18836366455631795, 'min_child_samples': 79, 'threshold': 0.4566199915963566}. Best is trial 27 with value: 0.3386454283021091.\n"
     ]
    },
    {
     "name": "stdout",
     "output_type": "stream",
     "text": [
      "\n",
      "=== 交差検証全体の評価 ===\n",
      "\n",
      "=== 詳細な評価指標 ===\n",
      "感度 (Sensitivity/Recall): 0.714\n",
      "特異度 (Specificity): 0.736\n",
      "適合率 (Precision): 0.037\n",
      "F1スコア: 0.070\n",
      "\n",
      "=== 混同行列 ===\n",
      "                  Predicted\n",
      "                  Negative  Positive\n",
      "Actual Negative      363      130   \n",
      "      Positive       2        5    \n",
      "\n",
      "Classification Report:\n",
      "              precision    recall  f1-score   support\n",
      "\n",
      "       False       0.99      0.74      0.85       493\n",
      "        True       0.04      0.71      0.07         7\n",
      "\n",
      "    accuracy                           0.74       500\n",
      "   macro avg       0.52      0.73      0.46       500\n",
      "weighted avg       0.98      0.74      0.84       500\n",
      "\n"
     ]
    },
    {
     "name": "stderr",
     "output_type": "stream",
     "text": [
      "[I 2024-12-07 08:44:06,637] Trial 28 finished with value: 0.08717948717948718 and parameters: {'num_leaves': 102, 'learning_rate': 0.058163055163663796, 'n_estimators': 93, 'reg_lambda': 0.13752265809675435, 'min_child_samples': 66, 'threshold': 0.4578820333006548}. Best is trial 27 with value: 0.3386454283021091.\n"
     ]
    },
    {
     "name": "stdout",
     "output_type": "stream",
     "text": [
      "\n",
      "=== 交差検証全体の評価 ===\n",
      "\n",
      "=== 詳細な評価指標 ===\n",
      "感度 (Sensitivity/Recall): 0.143\n",
      "特異度 (Specificity): 0.921\n",
      "適合率 (Precision): 0.025\n",
      "F1スコア: 0.043\n",
      "\n",
      "=== 混同行列 ===\n",
      "                  Predicted\n",
      "                  Negative  Positive\n",
      "Actual Negative      454       39   \n",
      "      Positive       6        1    \n",
      "\n",
      "Classification Report:\n",
      "              precision    recall  f1-score   support\n",
      "\n",
      "       False       0.99      0.92      0.95       493\n",
      "        True       0.03      0.14      0.04         7\n",
      "\n",
      "    accuracy                           0.91       500\n",
      "   macro avg       0.51      0.53      0.50       500\n",
      "weighted avg       0.97      0.91      0.94       500\n",
      "\n"
     ]
    },
    {
     "name": "stderr",
     "output_type": "stream",
     "text": [
      "[I 2024-12-07 08:44:09,267] Trial 29 finished with value: 0.08717948717948718 and parameters: {'num_leaves': 85, 'learning_rate': 0.029278284891202648, 'n_estimators': 116, 'reg_lambda': 0.5353431766271068, 'min_child_samples': 7, 'threshold': 0.5679119433676689}. Best is trial 27 with value: 0.3386454283021091.\n"
     ]
    },
    {
     "name": "stdout",
     "output_type": "stream",
     "text": [
      "\n",
      "=== 交差検証全体の評価 ===\n",
      "\n",
      "=== 詳細な評価指標 ===\n",
      "感度 (Sensitivity/Recall): 0.143\n",
      "特異度 (Specificity): 0.941\n",
      "適合率 (Precision): 0.033\n",
      "F1スコア: 0.054\n",
      "\n",
      "=== 混同行列 ===\n",
      "                  Predicted\n",
      "                  Negative  Positive\n",
      "Actual Negative      464       29   \n",
      "      Positive       6        1    \n",
      "\n",
      "Classification Report:\n",
      "              precision    recall  f1-score   support\n",
      "\n",
      "       False       0.99      0.94      0.96       493\n",
      "        True       0.03      0.14      0.05         7\n",
      "\n",
      "    accuracy                           0.93       500\n",
      "   macro avg       0.51      0.54      0.51       500\n",
      "weighted avg       0.97      0.93      0.95       500\n",
      "\n"
     ]
    },
    {
     "name": "stderr",
     "output_type": "stream",
     "text": [
      "C:\\Users\\youki\\AppData\\Roaming\\Python\\Python312\\site-packages\\sklearn\\metrics\\_classification.py:1531: UndefinedMetricWarning: Precision is ill-defined and being set to 0.0 in labels with no predicted samples. Use `zero_division` parameter to control this behavior.\n",
      "  _warn_prf(average, modifier, f\"{metric.capitalize()} is\", len(result))\n",
      "C:\\Users\\youki\\AppData\\Roaming\\Python\\Python312\\site-packages\\sklearn\\metrics\\_classification.py:1531: UndefinedMetricWarning: Precision is ill-defined and being set to 0.0 in labels with no predicted samples. Use `zero_division` parameter to control this behavior.\n",
      "  _warn_prf(average, modifier, f\"{metric.capitalize()} is\", len(result))\n",
      "C:\\Users\\youki\\AppData\\Roaming\\Python\\Python312\\site-packages\\sklearn\\metrics\\_classification.py:1531: UndefinedMetricWarning: Precision is ill-defined and being set to 0.0 in labels with no predicted samples. Use `zero_division` parameter to control this behavior.\n",
      "  _warn_prf(average, modifier, f\"{metric.capitalize()} is\", len(result))\n",
      "[I 2024-12-07 08:44:10,034] Trial 30 finished with value: 0.19096133751306166 and parameters: {'num_leaves': 85, 'learning_rate': 0.017485725908342985, 'n_estimators': 128, 'reg_lambda': 1.3990813244716809, 'min_child_samples': 79, 'threshold': 0.3590483431810362}. Best is trial 27 with value: 0.3386454283021091.\n"
     ]
    },
    {
     "name": "stdout",
     "output_type": "stream",
     "text": [
      "\n",
      "=== 交差検証全体の評価 ===\n",
      "\n",
      "=== 詳細な評価指標 ===\n",
      "感度 (Sensitivity/Recall): 1.000\n",
      "特異度 (Specificity): 0.000\n",
      "適合率 (Precision): 0.014\n",
      "F1スコア: 0.028\n",
      "\n",
      "=== 混同行列 ===\n",
      "                  Predicted\n",
      "                  Negative  Positive\n",
      "Actual Negative       0       493   \n",
      "      Positive       0        7    \n",
      "\n",
      "Classification Report:\n",
      "              precision    recall  f1-score   support\n",
      "\n",
      "       False       0.00      0.00      0.00       493\n",
      "        True       0.01      1.00      0.03         7\n",
      "\n",
      "    accuracy                           0.01       500\n",
      "   macro avg       0.01      0.50      0.01       500\n",
      "weighted avg       0.00      0.01      0.00       500\n",
      "\n"
     ]
    },
    {
     "name": "stderr",
     "output_type": "stream",
     "text": [
      "[I 2024-12-07 08:44:11,161] Trial 31 finished with value: 0.08095238095238096 and parameters: {'num_leaves': 98, 'learning_rate': 0.013465820225237951, 'n_estimators': 218, 'reg_lambda': 0.07887267048077193, 'min_child_samples': 72, 'threshold': 0.46677681315236436}. Best is trial 27 with value: 0.3386454283021091.\n"
     ]
    },
    {
     "name": "stdout",
     "output_type": "stream",
     "text": [
      "\n",
      "=== 交差検証全体の評価 ===\n",
      "\n",
      "=== 詳細な評価指標 ===\n",
      "感度 (Sensitivity/Recall): 0.143\n",
      "特異度 (Specificity): 0.907\n",
      "適合率 (Precision): 0.021\n",
      "F1スコア: 0.037\n",
      "\n",
      "=== 混同行列 ===\n",
      "                  Predicted\n",
      "                  Negative  Positive\n",
      "Actual Negative      447       46   \n",
      "      Positive       6        1    \n",
      "\n",
      "Classification Report:\n",
      "              precision    recall  f1-score   support\n",
      "\n",
      "       False       0.99      0.91      0.95       493\n",
      "        True       0.02      0.14      0.04         7\n",
      "\n",
      "    accuracy                           0.90       500\n",
      "   macro avg       0.50      0.52      0.49       500\n",
      "weighted avg       0.97      0.90      0.93       500\n",
      "\n"
     ]
    },
    {
     "name": "stderr",
     "output_type": "stream",
     "text": [
      "[I 2024-12-07 08:44:11,857] Trial 32 finished with value: 0.3372663468372424 and parameters: {'num_leaves': 69, 'learning_rate': 0.024723761768681785, 'n_estimators': 54, 'reg_lambda': 0.2818858399552767, 'min_child_samples': 58, 'threshold': 0.3657108073138502}. Best is trial 27 with value: 0.3386454283021091.\n"
     ]
    },
    {
     "name": "stdout",
     "output_type": "stream",
     "text": [
      "\n",
      "=== 交差検証全体の評価 ===\n",
      "\n",
      "=== 詳細な評価指標 ===\n",
      "感度 (Sensitivity/Recall): 0.857\n",
      "特異度 (Specificity): 0.635\n",
      "適合率 (Precision): 0.032\n",
      "F1スコア: 0.062\n",
      "\n",
      "=== 混同行列 ===\n",
      "                  Predicted\n",
      "                  Negative  Positive\n",
      "Actual Negative      313      180   \n",
      "      Positive       1        6    \n",
      "\n",
      "Classification Report:\n",
      "              precision    recall  f1-score   support\n",
      "\n",
      "       False       1.00      0.63      0.78       493\n",
      "        True       0.03      0.86      0.06         7\n",
      "\n",
      "    accuracy                           0.64       500\n",
      "   macro avg       0.51      0.75      0.42       500\n",
      "weighted avg       0.98      0.64      0.77       500\n",
      "\n"
     ]
    },
    {
     "name": "stderr",
     "output_type": "stream",
     "text": [
      "[I 2024-12-07 08:44:12,663] Trial 33 finished with value: 0.272202380952381 and parameters: {'num_leaves': 84, 'learning_rate': 0.049061732339355346, 'n_estimators': 58, 'reg_lambda': 0.19467881253761182, 'min_child_samples': 57, 'threshold': 0.36983553056904883}. Best is trial 27 with value: 0.3386454283021091.\n"
     ]
    },
    {
     "name": "stdout",
     "output_type": "stream",
     "text": [
      "\n",
      "=== 交差検証全体の評価 ===\n",
      "\n",
      "=== 詳細な評価指標 ===\n",
      "感度 (Sensitivity/Recall): 0.571\n",
      "特異度 (Specificity): 0.789\n",
      "適合率 (Precision): 0.037\n",
      "F1スコア: 0.070\n",
      "\n",
      "=== 混同行列 ===\n",
      "                  Predicted\n",
      "                  Negative  Positive\n",
      "Actual Negative      389      104   \n",
      "      Positive       3        4    \n",
      "\n",
      "Classification Report:\n",
      "              precision    recall  f1-score   support\n",
      "\n",
      "       False       0.99      0.79      0.88       493\n",
      "        True       0.04      0.57      0.07         7\n",
      "\n",
      "    accuracy                           0.79       500\n",
      "   macro avg       0.51      0.68      0.47       500\n",
      "weighted avg       0.98      0.79      0.87       500\n",
      "\n"
     ]
    },
    {
     "name": "stderr",
     "output_type": "stream",
     "text": [
      "[I 2024-12-07 08:44:13,496] Trial 34 finished with value: 0.25414598108747044 and parameters: {'num_leaves': 106, 'learning_rate': 0.02268071046264776, 'n_estimators': 127, 'reg_lambda': 0.3743128390678571, 'min_child_samples': 60, 'threshold': 0.396230962648822}. Best is trial 27 with value: 0.3386454283021091.\n"
     ]
    },
    {
     "name": "stdout",
     "output_type": "stream",
     "text": [
      "\n",
      "=== 交差検証全体の評価 ===\n",
      "\n",
      "=== 詳細な評価指標 ===\n",
      "感度 (Sensitivity/Recall): 0.571\n",
      "特異度 (Specificity): 0.730\n",
      "適合率 (Precision): 0.029\n",
      "F1スコア: 0.056\n",
      "\n",
      "=== 混同行列 ===\n",
      "                  Predicted\n",
      "                  Negative  Positive\n",
      "Actual Negative      360      133   \n",
      "      Positive       3        4    \n",
      "\n",
      "Classification Report:\n",
      "              precision    recall  f1-score   support\n",
      "\n",
      "       False       0.99      0.73      0.84       493\n",
      "        True       0.03      0.57      0.06         7\n",
      "\n",
      "    accuracy                           0.73       500\n",
      "   macro avg       0.51      0.65      0.45       500\n",
      "weighted avg       0.98      0.73      0.83       500\n",
      "\n"
     ]
    },
    {
     "name": "stderr",
     "output_type": "stream",
     "text": [
      "[I 2024-12-07 08:44:14,365] Trial 35 finished with value: 0.18531976744186046 and parameters: {'num_leaves': 69, 'learning_rate': 0.12763919880398347, 'n_estimators': 83, 'reg_lambda': 1.6059297936587391, 'min_child_samples': 70, 'threshold': 0.506990678950586}. Best is trial 27 with value: 0.3386454283021091.\n"
     ]
    },
    {
     "name": "stdout",
     "output_type": "stream",
     "text": [
      "\n",
      "=== 交差検証全体の評価 ===\n",
      "\n",
      "=== 詳細な評価指標 ===\n",
      "感度 (Sensitivity/Recall): 0.429\n",
      "特異度 (Specificity): 0.813\n",
      "適合率 (Precision): 0.032\n",
      "F1スコア: 0.059\n",
      "\n",
      "=== 混同行列 ===\n",
      "                  Predicted\n",
      "                  Negative  Positive\n",
      "Actual Negative      401       92   \n",
      "      Positive       4        3    \n",
      "\n",
      "Classification Report:\n",
      "              precision    recall  f1-score   support\n",
      "\n",
      "       False       0.99      0.81      0.89       493\n",
      "        True       0.03      0.43      0.06         7\n",
      "\n",
      "    accuracy                           0.81       500\n",
      "   macro avg       0.51      0.62      0.48       500\n",
      "weighted avg       0.98      0.81      0.88       500\n",
      "\n"
     ]
    },
    {
     "name": "stderr",
     "output_type": "stream",
     "text": [
      "[I 2024-12-07 08:44:15,202] Trial 36 finished with value: 0.0 and parameters: {'num_leaves': 118, 'learning_rate': 0.017776981490070405, 'n_estimators': 52, 'reg_lambda': 1.1357959243323164, 'min_child_samples': 39, 'threshold': 0.5560158309492307}. Best is trial 27 with value: 0.3386454283021091.\n"
     ]
    },
    {
     "name": "stdout",
     "output_type": "stream",
     "text": [
      "\n",
      "=== 交差検証全体の評価 ===\n",
      "\n",
      "=== 詳細な評価指標 ===\n",
      "感度 (Sensitivity/Recall): 0.000\n",
      "特異度 (Specificity): 0.974\n",
      "適合率 (Precision): 0.000\n",
      "F1スコア: 0.000\n",
      "\n",
      "=== 混同行列 ===\n",
      "                  Predicted\n",
      "                  Negative  Positive\n",
      "Actual Negative      480       13   \n",
      "      Positive       7        0    \n",
      "\n",
      "Classification Report:\n",
      "              precision    recall  f1-score   support\n",
      "\n",
      "       False       0.99      0.97      0.98       493\n",
      "        True       0.00      0.00      0.00         7\n",
      "\n",
      "    accuracy                           0.96       500\n",
      "   macro avg       0.49      0.49      0.49       500\n",
      "weighted avg       0.97      0.96      0.97       500\n",
      "\n"
     ]
    },
    {
     "name": "stderr",
     "output_type": "stream",
     "text": [
      "C:\\Users\\youki\\AppData\\Roaming\\Python\\Python312\\site-packages\\sklearn\\metrics\\_classification.py:1531: UndefinedMetricWarning: Precision is ill-defined and being set to 0.0 in labels with no predicted samples. Use `zero_division` parameter to control this behavior.\n",
      "  _warn_prf(average, modifier, f\"{metric.capitalize()} is\", len(result))\n",
      "C:\\Users\\youki\\AppData\\Roaming\\Python\\Python312\\site-packages\\sklearn\\metrics\\_classification.py:1531: UndefinedMetricWarning: Precision is ill-defined and being set to 0.0 in labels with no predicted samples. Use `zero_division` parameter to control this behavior.\n",
      "  _warn_prf(average, modifier, f\"{metric.capitalize()} is\", len(result))\n",
      "C:\\Users\\youki\\AppData\\Roaming\\Python\\Python312\\site-packages\\sklearn\\metrics\\_classification.py:1531: UndefinedMetricWarning: Precision is ill-defined and being set to 0.0 in labels with no predicted samples. Use `zero_division` parameter to control this behavior.\n",
      "  _warn_prf(average, modifier, f\"{metric.capitalize()} is\", len(result))\n",
      "[I 2024-12-07 08:44:16,186] Trial 37 finished with value: 0.19096133751306166 and parameters: {'num_leaves': 82, 'learning_rate': 0.011276171565925279, 'n_estimators': 107, 'reg_lambda': 0.2973016816439695, 'min_child_samples': 56, 'threshold': 0.2018506761766258}. Best is trial 27 with value: 0.3386454283021091.\n"
     ]
    },
    {
     "name": "stdout",
     "output_type": "stream",
     "text": [
      "\n",
      "=== 交差検証全体の評価 ===\n",
      "\n",
      "=== 詳細な評価指標 ===\n",
      "感度 (Sensitivity/Recall): 1.000\n",
      "特異度 (Specificity): 0.000\n",
      "適合率 (Precision): 0.014\n",
      "F1スコア: 0.028\n",
      "\n",
      "=== 混同行列 ===\n",
      "                  Predicted\n",
      "                  Negative  Positive\n",
      "Actual Negative       0       493   \n",
      "      Positive       0        7    \n",
      "\n",
      "Classification Report:\n",
      "              precision    recall  f1-score   support\n",
      "\n",
      "       False       0.00      0.00      0.00       493\n",
      "        True       0.01      1.00      0.03         7\n",
      "\n",
      "    accuracy                           0.01       500\n",
      "   macro avg       0.01      0.50      0.01       500\n",
      "weighted avg       0.00      0.01      0.00       500\n",
      "\n"
     ]
    },
    {
     "name": "stderr",
     "output_type": "stream",
     "text": [
      "[I 2024-12-07 08:44:17,278] Trial 38 finished with value: 0.09714285714285714 and parameters: {'num_leaves': 53, 'learning_rate': 0.03075740262735425, 'n_estimators': 302, 'reg_lambda': 0.11117886060242159, 'min_child_samples': 80, 'threshold': 0.4421897884357589}. Best is trial 27 with value: 0.3386454283021091.\n"
     ]
    },
    {
     "name": "stdout",
     "output_type": "stream",
     "text": [
      "\n",
      "=== 交差検証全体の評価 ===\n",
      "\n",
      "=== 詳細な評価指標 ===\n",
      "感度 (Sensitivity/Recall): 0.143\n",
      "特異度 (Specificity): 0.959\n",
      "適合率 (Precision): 0.048\n",
      "F1スコア: 0.071\n",
      "\n",
      "=== 混同行列 ===\n",
      "                  Predicted\n",
      "                  Negative  Positive\n",
      "Actual Negative      473       20   \n",
      "      Positive       6        1    \n",
      "\n",
      "Classification Report:\n",
      "              precision    recall  f1-score   support\n",
      "\n",
      "       False       0.99      0.96      0.97       493\n",
      "        True       0.05      0.14      0.07         7\n",
      "\n",
      "    accuracy                           0.95       500\n",
      "   macro avg       0.52      0.55      0.52       500\n",
      "weighted avg       0.97      0.95      0.96       500\n",
      "\n"
     ]
    },
    {
     "name": "stderr",
     "output_type": "stream",
     "text": [
      "C:\\Users\\youki\\AppData\\Roaming\\Python\\Python312\\site-packages\\sklearn\\metrics\\_classification.py:1531: UndefinedMetricWarning: Precision is ill-defined and being set to 0.0 in labels with no predicted samples. Use `zero_division` parameter to control this behavior.\n",
      "  _warn_prf(average, modifier, f\"{metric.capitalize()} is\", len(result))\n",
      "C:\\Users\\youki\\AppData\\Roaming\\Python\\Python312\\site-packages\\sklearn\\metrics\\_classification.py:1531: UndefinedMetricWarning: Precision is ill-defined and being set to 0.0 in labels with no predicted samples. Use `zero_division` parameter to control this behavior.\n",
      "  _warn_prf(average, modifier, f\"{metric.capitalize()} is\", len(result))\n",
      "C:\\Users\\youki\\AppData\\Roaming\\Python\\Python312\\site-packages\\sklearn\\metrics\\_classification.py:1531: UndefinedMetricWarning: Precision is ill-defined and being set to 0.0 in labels with no predicted samples. Use `zero_division` parameter to control this behavior.\n",
      "  _warn_prf(average, modifier, f\"{metric.capitalize()} is\", len(result))\n",
      "[I 2024-12-07 08:44:18,324] Trial 39 finished with value: 0.19096133751306166 and parameters: {'num_leaves': 92, 'learning_rate': 0.020446795718504114, 'n_estimators': 141, 'reg_lambda': 2.4577483084743195, 'min_child_samples': 51, 'threshold': 0.1333675390405924}. Best is trial 27 with value: 0.3386454283021091.\n"
     ]
    },
    {
     "name": "stdout",
     "output_type": "stream",
     "text": [
      "\n",
      "=== 交差検証全体の評価 ===\n",
      "\n",
      "=== 詳細な評価指標 ===\n",
      "感度 (Sensitivity/Recall): 1.000\n",
      "特異度 (Specificity): 0.000\n",
      "適合率 (Precision): 0.014\n",
      "F1スコア: 0.028\n",
      "\n",
      "=== 混同行列 ===\n",
      "                  Predicted\n",
      "                  Negative  Positive\n",
      "Actual Negative       0       493   \n",
      "      Positive       0        7    \n",
      "\n",
      "Classification Report:\n",
      "              precision    recall  f1-score   support\n",
      "\n",
      "       False       0.00      0.00      0.00       493\n",
      "        True       0.01      1.00      0.03         7\n",
      "\n",
      "    accuracy                           0.01       500\n",
      "   macro avg       0.01      0.50      0.01       500\n",
      "weighted avg       0.00      0.01      0.00       500\n",
      "\n"
     ]
    },
    {
     "name": "stderr",
     "output_type": "stream",
     "text": [
      "[I 2024-12-07 08:44:19,038] Trial 40 finished with value: 0.09714285714285714 and parameters: {'num_leaves': 59, 'learning_rate': 0.01427438679406793, 'n_estimators': 80, 'reg_lambda': 0.057574414048725445, 'min_child_samples': 84, 'threshold': 0.6158399849759787}. Best is trial 27 with value: 0.3386454283021091.\n"
     ]
    },
    {
     "name": "stdout",
     "output_type": "stream",
     "text": [
      "\n",
      "=== 交差検証全体の評価 ===\n",
      "\n",
      "=== 詳細な評価指標 ===\n",
      "感度 (Sensitivity/Recall): 0.143\n",
      "特異度 (Specificity): 0.923\n",
      "適合率 (Precision): 0.026\n",
      "F1スコア: 0.043\n",
      "\n",
      "=== 混同行列 ===\n",
      "                  Predicted\n",
      "                  Negative  Positive\n",
      "Actual Negative      455       38   \n",
      "      Positive       6        1    \n",
      "\n",
      "Classification Report:\n",
      "              precision    recall  f1-score   support\n",
      "\n",
      "       False       0.99      0.92      0.95       493\n",
      "        True       0.03      0.14      0.04         7\n",
      "\n",
      "    accuracy                           0.91       500\n",
      "   macro avg       0.51      0.53      0.50       500\n",
      "weighted avg       0.97      0.91      0.94       500\n",
      "\n"
     ]
    },
    {
     "name": "stderr",
     "output_type": "stream",
     "text": [
      "[I 2024-12-07 08:44:20,075] Trial 41 finished with value: 0.30133267342413683 and parameters: {'num_leaves': 45, 'learning_rate': 0.003934967623474842, 'n_estimators': 366, 'reg_lambda': 0.006428609850481295, 'min_child_samples': 92, 'threshold': 0.27702844122052245}. Best is trial 27 with value: 0.3386454283021091.\n"
     ]
    },
    {
     "name": "stdout",
     "output_type": "stream",
     "text": [
      "\n",
      "=== 交差検証全体の評価 ===\n",
      "\n",
      "=== 詳細な評価指標 ===\n",
      "感度 (Sensitivity/Recall): 0.857\n",
      "特異度 (Specificity): 0.582\n",
      "適合率 (Precision): 0.028\n",
      "F1スコア: 0.055\n",
      "\n",
      "=== 混同行列 ===\n",
      "                  Predicted\n",
      "                  Negative  Positive\n",
      "Actual Negative      287      206   \n",
      "      Positive       1        6    \n",
      "\n",
      "Classification Report:\n",
      "              precision    recall  f1-score   support\n",
      "\n",
      "       False       1.00      0.58      0.73       493\n",
      "        True       0.03      0.86      0.05         7\n",
      "\n",
      "    accuracy                           0.59       500\n",
      "   macro avg       0.51      0.72      0.39       500\n",
      "weighted avg       0.98      0.59      0.73       500\n",
      "\n"
     ]
    },
    {
     "name": "stderr",
     "output_type": "stream",
     "text": [
      "[I 2024-12-07 08:44:21,283] Trial 42 finished with value: 0.25119331065759637 and parameters: {'num_leaves': 44, 'learning_rate': 0.0040644812367912975, 'n_estimators': 369, 'reg_lambda': 0.0030323072449634117, 'min_child_samples': 90, 'threshold': 0.37939245288323364}. Best is trial 27 with value: 0.3386454283021091.\n"
     ]
    },
    {
     "name": "stdout",
     "output_type": "stream",
     "text": [
      "\n",
      "=== 交差検証全体の評価 ===\n",
      "\n",
      "=== 詳細な評価指標 ===\n",
      "感度 (Sensitivity/Recall): 0.571\n",
      "特異度 (Specificity): 0.761\n",
      "適合率 (Precision): 0.033\n",
      "F1スコア: 0.062\n",
      "\n",
      "=== 混同行列 ===\n",
      "                  Predicted\n",
      "                  Negative  Positive\n",
      "Actual Negative      375      118   \n",
      "      Positive       3        4    \n",
      "\n",
      "Classification Report:\n",
      "              precision    recall  f1-score   support\n",
      "\n",
      "       False       0.99      0.76      0.86       493\n",
      "        True       0.03      0.57      0.06         7\n",
      "\n",
      "    accuracy                           0.76       500\n",
      "   macro avg       0.51      0.67      0.46       500\n",
      "weighted avg       0.98      0.76      0.85       500\n",
      "\n"
     ]
    },
    {
     "name": "stderr",
     "output_type": "stream",
     "text": [
      "[I 2024-12-07 08:44:22,125] Trial 43 finished with value: 0.08499999999999999 and parameters: {'num_leaves': 39, 'learning_rate': 0.024646375227809485, 'n_estimators': 201, 'reg_lambda': 0.0013288592014031977, 'min_child_samples': 93, 'threshold': 0.2666031986149986}. Best is trial 27 with value: 0.3386454283021091.\n"
     ]
    },
    {
     "name": "stdout",
     "output_type": "stream",
     "text": [
      "\n",
      "=== 交差検証全体の評価 ===\n",
      "\n",
      "=== 詳細な評価指標 ===\n",
      "感度 (Sensitivity/Recall): 0.143\n",
      "特異度 (Specificity): 0.919\n",
      "適合率 (Precision): 0.024\n",
      "F1スコア: 0.042\n",
      "\n",
      "=== 混同行列 ===\n",
      "                  Predicted\n",
      "                  Negative  Positive\n",
      "Actual Negative      453       40   \n",
      "      Positive       6        1    \n",
      "\n",
      "Classification Report:\n",
      "              precision    recall  f1-score   support\n",
      "\n",
      "       False       0.99      0.92      0.95       493\n",
      "        True       0.02      0.14      0.04         7\n",
      "\n",
      "    accuracy                           0.91       500\n",
      "   macro avg       0.51      0.53      0.50       500\n",
      "weighted avg       0.97      0.91      0.94       500\n",
      "\n"
     ]
    },
    {
     "name": "stderr",
     "output_type": "stream",
     "text": [
      "[I 2024-12-07 08:44:23,875] Trial 44 finished with value: 0.07727272727272727 and parameters: {'num_leaves': 71, 'learning_rate': 0.010113973819245605, 'n_estimators': 312, 'reg_lambda': 0.026306599020487046, 'min_child_samples': 75, 'threshold': 0.3425983555692874}. Best is trial 27 with value: 0.3386454283021091.\n"
     ]
    },
    {
     "name": "stdout",
     "output_type": "stream",
     "text": [
      "\n",
      "=== 交差検証全体の評価 ===\n",
      "\n",
      "=== 詳細な評価指標 ===\n",
      "感度 (Sensitivity/Recall): 0.143\n",
      "特異度 (Specificity): 0.886\n",
      "適合率 (Precision): 0.018\n",
      "F1スコア: 0.031\n",
      "\n",
      "=== 混同行列 ===\n",
      "                  Predicted\n",
      "                  Negative  Positive\n",
      "Actual Negative      437       56   \n",
      "      Positive       6        1    \n",
      "\n",
      "Classification Report:\n",
      "              precision    recall  f1-score   support\n",
      "\n",
      "       False       0.99      0.89      0.93       493\n",
      "        True       0.02      0.14      0.03         7\n",
      "\n",
      "    accuracy                           0.88       500\n",
      "   macro avg       0.50      0.51      0.48       500\n",
      "weighted avg       0.97      0.88      0.92       500\n",
      "\n"
     ]
    },
    {
     "name": "stderr",
     "output_type": "stream",
     "text": [
      "[I 2024-12-07 08:44:25,402] Trial 45 finished with value: 0.0 and parameters: {'num_leaves': 48, 'learning_rate': 0.04772199582583651, 'n_estimators': 400, 'reg_lambda': 0.00593230585080254, 'min_child_samples': 66, 'threshold': 0.21126707533106287}. Best is trial 27 with value: 0.3386454283021091.\n"
     ]
    },
    {
     "name": "stdout",
     "output_type": "stream",
     "text": [
      "\n",
      "=== 交差検証全体の評価 ===\n",
      "\n",
      "=== 詳細な評価指標 ===\n",
      "感度 (Sensitivity/Recall): 0.000\n",
      "特異度 (Specificity): 0.986\n",
      "適合率 (Precision): 0.000\n",
      "F1スコア: 0.000\n",
      "\n",
      "=== 混同行列 ===\n",
      "                  Predicted\n",
      "                  Negative  Positive\n",
      "Actual Negative      486       7    \n",
      "      Positive       7        0    \n",
      "\n",
      "Classification Report:\n",
      "              precision    recall  f1-score   support\n",
      "\n",
      "       False       0.99      0.99      0.99       493\n",
      "        True       0.00      0.00      0.00         7\n",
      "\n",
      "    accuracy                           0.97       500\n",
      "   macro avg       0.49      0.49      0.49       500\n",
      "weighted avg       0.97      0.97      0.97       500\n",
      "\n"
     ]
    },
    {
     "name": "stderr",
     "output_type": "stream",
     "text": [
      "[I 2024-12-07 08:44:26,441] Trial 46 finished with value: 0.07727272727272727 and parameters: {'num_leaves': 25, 'learning_rate': 0.0034952111291648128, 'n_estimators': 354, 'reg_lambda': 0.002265341230113739, 'min_child_samples': 85, 'threshold': 0.48360427253634247}. Best is trial 27 with value: 0.3386454283021091.\n"
     ]
    },
    {
     "name": "stdout",
     "output_type": "stream",
     "text": [
      "\n",
      "=== 交差検証全体の評価 ===\n",
      "\n",
      "=== 詳細な評価指標 ===\n",
      "感度 (Sensitivity/Recall): 0.143\n",
      "特異度 (Specificity): 0.846\n",
      "適合率 (Precision): 0.013\n",
      "F1スコア: 0.024\n",
      "\n",
      "=== 混同行列 ===\n",
      "                  Predicted\n",
      "                  Negative  Positive\n",
      "Actual Negative      417       76   \n",
      "      Positive       6        1    \n",
      "\n",
      "Classification Report:\n",
      "              precision    recall  f1-score   support\n",
      "\n",
      "       False       0.99      0.85      0.91       493\n",
      "        True       0.01      0.14      0.02         7\n",
      "\n",
      "    accuracy                           0.84       500\n",
      "   macro avg       0.50      0.49      0.47       500\n",
      "weighted avg       0.97      0.84      0.90       500\n",
      "\n"
     ]
    },
    {
     "name": "stderr",
     "output_type": "stream",
     "text": [
      "C:\\Users\\youki\\AppData\\Roaming\\Python\\Python312\\site-packages\\sklearn\\metrics\\_classification.py:1531: UndefinedMetricWarning: Precision is ill-defined and being set to 0.0 in labels with no predicted samples. Use `zero_division` parameter to control this behavior.\n",
      "  _warn_prf(average, modifier, f\"{metric.capitalize()} is\", len(result))\n",
      "C:\\Users\\youki\\AppData\\Roaming\\Python\\Python312\\site-packages\\sklearn\\metrics\\_classification.py:1531: UndefinedMetricWarning: Precision is ill-defined and being set to 0.0 in labels with no predicted samples. Use `zero_division` parameter to control this behavior.\n",
      "  _warn_prf(average, modifier, f\"{metric.capitalize()} is\", len(result))\n",
      "C:\\Users\\youki\\AppData\\Roaming\\Python\\Python312\\site-packages\\sklearn\\metrics\\_classification.py:1531: UndefinedMetricWarning: Precision is ill-defined and being set to 0.0 in labels with no predicted samples. Use `zero_division` parameter to control this behavior.\n",
      "  _warn_prf(average, modifier, f\"{metric.capitalize()} is\", len(result))\n",
      "[I 2024-12-07 08:44:27,941] Trial 47 finished with value: 0.19096133751306166 and parameters: {'num_leaves': 63, 'learning_rate': 0.0018285490590022302, 'n_estimators': 447, 'reg_lambda': 0.271958186213709, 'min_child_samples': 61, 'threshold': 0.1617060908086895}. Best is trial 27 with value: 0.3386454283021091.\n"
     ]
    },
    {
     "name": "stdout",
     "output_type": "stream",
     "text": [
      "\n",
      "=== 交差検証全体の評価 ===\n",
      "\n",
      "=== 詳細な評価指標 ===\n",
      "感度 (Sensitivity/Recall): 1.000\n",
      "特異度 (Specificity): 0.000\n",
      "適合率 (Precision): 0.014\n",
      "F1スコア: 0.028\n",
      "\n",
      "=== 混同行列 ===\n",
      "                  Predicted\n",
      "                  Negative  Positive\n",
      "Actual Negative       0       493   \n",
      "      Positive       0        7    \n",
      "\n",
      "Classification Report:\n",
      "              precision    recall  f1-score   support\n",
      "\n",
      "       False       0.00      0.00      0.00       493\n",
      "        True       0.01      1.00      0.03         7\n",
      "\n",
      "    accuracy                           0.01       500\n",
      "   macro avg       0.01      0.50      0.01       500\n",
      "weighted avg       0.00      0.01      0.00       500\n",
      "\n"
     ]
    },
    {
     "name": "stderr",
     "output_type": "stream",
     "text": [
      "C:\\Users\\youki\\AppData\\Roaming\\Python\\Python312\\site-packages\\sklearn\\metrics\\_classification.py:1531: UndefinedMetricWarning: Precision is ill-defined and being set to 0.0 in labels with no predicted samples. Use `zero_division` parameter to control this behavior.\n",
      "  _warn_prf(average, modifier, f\"{metric.capitalize()} is\", len(result))\n",
      "C:\\Users\\youki\\AppData\\Roaming\\Python\\Python312\\site-packages\\sklearn\\metrics\\_classification.py:1531: UndefinedMetricWarning: Precision is ill-defined and being set to 0.0 in labels with no predicted samples. Use `zero_division` parameter to control this behavior.\n",
      "  _warn_prf(average, modifier, f\"{metric.capitalize()} is\", len(result))\n",
      "C:\\Users\\youki\\AppData\\Roaming\\Python\\Python312\\site-packages\\sklearn\\metrics\\_classification.py:1531: UndefinedMetricWarning: Precision is ill-defined and being set to 0.0 in labels with no predicted samples. Use `zero_division` parameter to control this behavior.\n",
      "  _warn_prf(average, modifier, f\"{metric.capitalize()} is\", len(result))\n",
      "[I 2024-12-07 08:44:29,880] Trial 48 finished with value: 0.19096133751306166 and parameters: {'num_leaves': 12, 'learning_rate': 0.006269666507601246, 'n_estimators': 286, 'reg_lambda': 0.7568288796363507, 'min_child_samples': 19, 'threshold': 0.327630870288042}. Best is trial 27 with value: 0.3386454283021091.\n"
     ]
    },
    {
     "name": "stdout",
     "output_type": "stream",
     "text": [
      "\n",
      "=== 交差検証全体の評価 ===\n",
      "\n",
      "=== 詳細な評価指標 ===\n",
      "感度 (Sensitivity/Recall): 1.000\n",
      "特異度 (Specificity): 0.000\n",
      "適合率 (Precision): 0.014\n",
      "F1スコア: 0.028\n",
      "\n",
      "=== 混同行列 ===\n",
      "                  Predicted\n",
      "                  Negative  Positive\n",
      "Actual Negative       0       493   \n",
      "      Positive       0        7    \n",
      "\n",
      "Classification Report:\n",
      "              precision    recall  f1-score   support\n",
      "\n",
      "       False       0.00      0.00      0.00       493\n",
      "        True       0.01      1.00      0.03         7\n",
      "\n",
      "    accuracy                           0.01       500\n",
      "   macro avg       0.01      0.50      0.01       500\n",
      "weighted avg       0.00      0.01      0.00       500\n",
      "\n"
     ]
    },
    {
     "name": "stderr",
     "output_type": "stream",
     "text": [
      "C:\\Users\\youki\\AppData\\Roaming\\Python\\Python312\\site-packages\\sklearn\\metrics\\_classification.py:1531: UndefinedMetricWarning: Precision is ill-defined and being set to 0.0 in labels with no predicted samples. Use `zero_division` parameter to control this behavior.\n",
      "  _warn_prf(average, modifier, f\"{metric.capitalize()} is\", len(result))\n",
      "C:\\Users\\youki\\AppData\\Roaming\\Python\\Python312\\site-packages\\sklearn\\metrics\\_classification.py:1531: UndefinedMetricWarning: Precision is ill-defined and being set to 0.0 in labels with no predicted samples. Use `zero_division` parameter to control this behavior.\n",
      "  _warn_prf(average, modifier, f\"{metric.capitalize()} is\", len(result))\n",
      "C:\\Users\\youki\\AppData\\Roaming\\Python\\Python312\\site-packages\\sklearn\\metrics\\_classification.py:1531: UndefinedMetricWarning: Precision is ill-defined and being set to 0.0 in labels with no predicted samples. Use `zero_division` parameter to control this behavior.\n",
      "  _warn_prf(average, modifier, f\"{metric.capitalize()} is\", len(result))\n",
      "[I 2024-12-07 08:44:31,293] Trial 49 finished with value: 0.0 and parameters: {'num_leaves': 89, 'learning_rate': 0.2903085281205109, 'n_estimators': 327, 'reg_lambda': 0.1147362277587716, 'min_child_samples': 94, 'threshold': 0.7169394954701456}. Best is trial 27 with value: 0.3386454283021091.\n"
     ]
    },
    {
     "name": "stdout",
     "output_type": "stream",
     "text": [
      "\n",
      "=== 交差検証全体の評価 ===\n",
      "\n",
      "=== 詳細な評価指標 ===\n",
      "感度 (Sensitivity/Recall): 0.000\n",
      "特異度 (Specificity): 1.000\n",
      "適合率 (Precision): 0.000\n",
      "F1スコア: 0.000\n",
      "\n",
      "=== 混同行列 ===\n",
      "                  Predicted\n",
      "                  Negative  Positive\n",
      "Actual Negative      493       0    \n",
      "      Positive       7        0    \n",
      "\n",
      "Classification Report:\n",
      "              precision    recall  f1-score   support\n",
      "\n",
      "       False       0.99      1.00      0.99       493\n",
      "        True       0.00      0.00      0.00         7\n",
      "\n",
      "    accuracy                           0.99       500\n",
      "   macro avg       0.49      0.50      0.50       500\n",
      "weighted avg       0.97      0.99      0.98       500\n",
      "\n",
      "\n",
      "Best parameters: {'num_leaves': 89, 'learning_rate': 0.016608812657268206, 'n_estimators': 118, 'reg_lambda': 0.18836366455631795, 'min_child_samples': 79}\n",
      "Best threshold: 0.4566199915963566\n",
      "\n",
      "=== 交差検証全体の評価 ===\n",
      "\n",
      "=== 詳細な評価指標 ===\n",
      "感度 (Sensitivity/Recall): 0.714\n",
      "特異度 (Specificity): 0.736\n",
      "適合率 (Precision): 0.037\n",
      "F1スコア: 0.070\n",
      "\n",
      "=== 混同行列 ===\n",
      "                  Predicted\n",
      "                  Negative  Positive\n",
      "Actual Negative      363      130   \n",
      "      Positive       2        5    \n",
      "\n",
      "Classification Report:\n",
      "              precision    recall  f1-score   support\n",
      "\n",
      "       False       0.99      0.74      0.85       493\n",
      "        True       0.04      0.71      0.07         7\n",
      "\n",
      "    accuracy                           0.74       500\n",
      "   macro avg       0.52      0.73      0.46       500\n",
      "weighted avg       0.98      0.74      0.84       500\n",
      "\n",
      "\n",
      "Final Mean F4 Score: 0.3386454283021091\n",
      "\n",
      "=== 最終モデルの評価（全データ） ===\n",
      "\n",
      "=== 詳細な評価指標 ===\n",
      "感度 (Sensitivity/Recall): 1.000\n",
      "特異度 (Specificity): 0.704\n",
      "適合率 (Precision): 0.046\n",
      "F1スコア: 0.087\n",
      "\n",
      "=== 混同行列 ===\n",
      "                  Predicted\n",
      "                  Negative  Positive\n",
      "Actual Negative      347      146   \n",
      "      Positive       0        7    \n"
     ]
    }
   ],
   "source": [
    "# 使用例\n",
    "if __name__ == \"__main__\":\n",
    "    # データの読み込み\n",
    "    #df = pd.read_csv('your_data.csv')  # tiab列とincluded列を含むデータ\n",
    "\n",
    "    # モデルのトレーニング\n",
    "    model, vectorizer, threshold, best_params = train_final_model(\n",
    "        df,\n",
    "        beta_value=4,  # より高い値で再現率を重視\n",
    "        n_trials=50\n",
    "    )\n"
   ]
  },
  {
   "cell_type": "code",
   "execution_count": 16,
   "metadata": {},
   "outputs": [],
   "source": [
    "import joblib\n"
   ]
  },
  {
   "cell_type": "code",
   "execution_count": 17,
   "metadata": {},
   "outputs": [],
   "source": [
    "# 日時をstringsで\n",
    "timestamp = time.strftime('%Y%m%d%H%M%S')"
   ]
  },
  {
   "cell_type": "code",
   "execution_count": 18,
   "metadata": {},
   "outputs": [
    {
     "name": "stdout",
     "output_type": "stream",
     "text": [
      "\n",
      "モデルと関連オブジェクトを 'model_data.joblib' に保存しました。\n"
     ]
    }
   ],
   "source": [
    "\n",
    "# モデルと関連オブジェクトの保存\n",
    "model_data = {\n",
    "    'model': model,\n",
    "    'vectorizer': vectorizer,\n",
    "    'threshold': threshold,\n",
    "    'best_params': best_params\n",
    "}\n",
    "joblib.dump(model_data, f'{timestamp}_model_data.joblib')\n",
    "print(\"\\nモデルと関連オブジェクトを 'model_data.joblib' に保存しました。\")"
   ]
  },
  {
   "cell_type": "code",
   "execution_count": 20,
   "metadata": {},
   "outputs": [
    {
     "name": "stdout",
     "output_type": "stream",
     "text": [
      "['model_data.joblib', '20241207084511_model_data.joblib']\n"
     ]
    }
   ],
   "source": [
    "models = glob.glob('*.joblib')\n",
    "print(models)"
   ]
  },
  {
   "cell_type": "code",
   "execution_count": 21,
   "metadata": {},
   "outputs": [
    {
     "name": "stdout",
     "output_type": "stream",
     "text": [
      "モデルと関連オブジェクトをロードしました。\n"
     ]
    }
   ],
   "source": [
    "# 保存したモデルデータをロード\n",
    "model_data = joblib.load(models[1])\n",
    "\n",
    "# 各オブジェクトの取り出し\n",
    "loaded_model = model_data['model']\n",
    "loaded_vectorizer = model_data['vectorizer']\n",
    "loaded_threshold = model_data['threshold']\n",
    "loaded_best_params = model_data['best_params']\n",
    "\n",
    "print(\"モデルと関連オブジェクトをロードしました。\")\n"
   ]
  },
  {
   "cell_type": "code",
   "execution_count": 22,
   "metadata": {},
   "outputs": [],
   "source": [
    "df2 = pd.read_csv(csv_files[1])\n",
    "df2.columns = [\"PMID\", \"title\", \"abstract\"]\n",
    "df2[\"tiab\"] = df2.apply(create_json_text, axis=1)"
   ]
  },
  {
   "cell_type": "code",
   "execution_count": 23,
   "metadata": {},
   "outputs": [
    {
     "data": {
      "text/plain": [
       "(10, 4)"
      ]
     },
     "execution_count": 23,
     "metadata": {},
     "output_type": "execute_result"
    }
   ],
   "source": [
    "df2.shape"
   ]
  },
  {
   "cell_type": "code",
   "execution_count": null,
   "metadata": {},
   "outputs": [
    {
     "name": "stdout",
     "output_type": "stream",
     "text": [
      "新しいデータの形状: (10, 10000)\n"
     ]
    }
   ],
   "source": []
  },
  {
   "cell_type": "code",
   "execution_count": 36,
   "metadata": {},
   "outputs": [],
   "source": [
    "def predict_and_summarize(df, create_json_text, loaded_vectorizer, loaded_model, loaded_threshold):\n",
    "    # \"tiab\"列の作成 (DataFrame dfに対して適用)\n",
    "    df[\"tiab\"] = df.apply(create_json_text, axis=1)\n",
    "\n",
    "    # テキストデータの前処理とベクトル化\n",
    "    X_new = loaded_vectorizer.transform(df[\"tiab\"].fillna(''))\n",
    "\n",
    "    print(f\"新しいデータの形状: {X_new.shape}\")\n",
    "\n",
    "    # 予測確率の取得\n",
    "    y_prob_new = loaded_model.predict_proba(X_new)[:, 1]\n",
    "\n",
    "    # 閾値を適用してクラスラベルを決定\n",
    "    y_pred_new = (y_prob_new >= loaded_threshold).astype(int)\n",
    "\n",
    "    # 予測結果をデータフレームに追加\n",
    "    df['prediction'] = y_pred_new\n",
    "    df['probability'] = y_prob_new\n",
    "\n",
    "    print(\"予測を実行し、結果をデータフレームに追加しました。\")\n",
    "\n",
    "    # 予測結果の表示\n",
    "    print(\"\\n=== 予測結果 ===\")\n",
    "    print(df[['tiab', 'prediction', 'probability']])\n",
    "\n",
    "    # クラス分布の確認\n",
    "    class_dist = df['prediction'].value_counts()\n",
    "    print(\"\\nクラスの分布:\")\n",
    "    print(class_dist)\n",
    "\n",
    "    # 確率の統計情報\n",
    "    prob_stats = df['probability'].describe()\n",
    "    print(\"\\n予測確率の統計情報:\")\n",
    "    print(prob_stats)\n",
    "\n",
    "    # 必要に応じて、更新後のdfや統計情報を返す\n",
    "    return df, class_dist, prob_stats\n"
   ]
  },
  {
   "cell_type": "code",
   "execution_count": 28,
   "metadata": {},
   "outputs": [
    {
     "name": "stdout",
     "output_type": "stream",
     "text": [
      "新しいデータの形状: (10, 10000)\n",
      "予測を実行し、結果をデータフレームに追加しました。\n",
      "\n",
      "=== 予測結果 ===\n",
      "                                                tiab  prediction  probability\n",
      "0  {\"title\": \"A multicenter, randomized, controll...           1     0.649690\n",
      "1  {\"title\": \"Transfusion requirements after head...           1     0.639201\n",
      "2  {\"title\": \"Restrictive vs Liberal Transfusion ...           1     0.566336\n",
      "3  {\"title\": \"Liberal or Restrictive Transfusion ...           1     0.573175\n",
      "4  {\"title\": \"Effect of Transfusion on Mortality ...           1     0.549861\n",
      "5  {\"title\": \"Transfusion-related risk of seconda...           1     0.555931\n",
      "6  {\"title\": \"Impact of Blood Product Transfusion...           1     0.604583\n",
      "7  {\"title\": \"Transfusion practice and blood stre...           1     0.576636\n",
      "8  {\"title\": \"Anemia, transfusions and hospital o...           1     0.633104\n",
      "9  {\"title\": \"Transfusion of platelets, but not o...           1     0.589637\n",
      "\n",
      "クラスの分布:\n",
      "prediction\n",
      "1    10\n",
      "Name: count, dtype: int64\n",
      "\n",
      "予測確率の統計情報:\n",
      "count    10.000000\n",
      "mean      0.593815\n",
      "std       0.036059\n",
      "min       0.549861\n",
      "25%       0.568045\n",
      "50%       0.583137\n",
      "75%       0.625974\n",
      "max       0.649690\n",
      "Name: probability, dtype: float64\n"
     ]
    }
   ],
   "source": [
    "# 必要なオブジェクトを準備\n",
    "# df2, create_json_text, loaded_vectorizer, loaded_model, loaded_threshold を用意済みとする\n",
    "updated_df, class_distribution, probability_stats = predict_and_summarize(\n",
    "    df2, create_json_text, loaded_vectorizer, loaded_model, loaded_threshold\n",
    ")\n"
   ]
  },
  {
   "cell_type": "markdown",
   "metadata": {},
   "source": [
    "# 残っているファイルに対して予測を行い、Trueであったものだけを残す"
   ]
  },
  {
   "cell_type": "code",
   "execution_count": 33,
   "metadata": {},
   "outputs": [],
   "source": [
    "df3 = pd.read_csv(r\"searchdata\\remaining_data_20241130.csv\")"
   ]
  },
  {
   "cell_type": "code",
   "execution_count": 34,
   "metadata": {},
   "outputs": [
    {
     "data": {
      "text/html": [
       "<div>\n",
       "<style scoped>\n",
       "    .dataframe tbody tr th:only-of-type {\n",
       "        vertical-align: middle;\n",
       "    }\n",
       "\n",
       "    .dataframe tbody tr th {\n",
       "        vertical-align: top;\n",
       "    }\n",
       "\n",
       "    .dataframe thead th {\n",
       "        text-align: right;\n",
       "    }\n",
       "</style>\n",
       "<table border=\"1\" class=\"dataframe\">\n",
       "  <thead>\n",
       "    <tr style=\"text-align: right;\">\n",
       "      <th></th>\n",
       "      <th>key</th>\n",
       "      <th>title</th>\n",
       "      <th>authors</th>\n",
       "      <th>journal</th>\n",
       "      <th>volume</th>\n",
       "      <th>issue</th>\n",
       "      <th>pages</th>\n",
       "      <th>abstract</th>\n",
       "      <th>year</th>\n",
       "      <th>publisher</th>\n",
       "      <th>url</th>\n",
       "      <th>issn</th>\n",
       "    </tr>\n",
       "  </thead>\n",
       "  <tbody>\n",
       "    <tr>\n",
       "      <th>0</th>\n",
       "      <td>cbe5dc78-690a-4f42-aa14-1fa928ee6f4a</td>\n",
       "      <td>Contemporary management of major haemorrhage i...</td>\n",
       "      <td>[{'author': 'Maier, Cheryl L', 'author_abbrevi...</td>\n",
       "      <td>Intensive care medicine</td>\n",
       "      <td>50</td>\n",
       "      <td>3</td>\n",
       "      <td>319-331</td>\n",
       "      <td>Haemorrhagic shock is frequent in critical car...</td>\n",
       "      <td>2024</td>\n",
       "      <td>United States</td>\n",
       "      <td>https://doi.org/10.1007/s00134-023-07303-5</td>\n",
       "      <td>{\"pmid\": 38189930, \"electronic_issn\": \"1432-12...</td>\n",
       "    </tr>\n",
       "    <tr>\n",
       "      <th>1</th>\n",
       "      <td>a6ee585f-1ba3-45a1-a701-9076213ea3e3</td>\n",
       "      <td>Pediatric Moderate and Severe Traumatic Brain ...</td>\n",
       "      <td>[{'author': 'Ben Abdeljelil, Anis', 'author_ab...</td>\n",
       "      <td>Journal of neurotrauma</td>\n",
       "      <td>40</td>\n",
       "      <td>21-22</td>\n",
       "      <td>2270-2281</td>\n",
       "      <td>Traumatic brain injury (TBI) is the leading ca...</td>\n",
       "      <td>2023</td>\n",
       "      <td>United States</td>\n",
       "      <td>https://doi.org/10.1089/neu.2023.0149</td>\n",
       "      <td>{\"pmid\": 37341019, \"electronic_issn\": \"1557-90...</td>\n",
       "    </tr>\n",
       "    <tr>\n",
       "      <th>2</th>\n",
       "      <td>fa95dc24-7daa-4768-8820-cf018f87ea59</td>\n",
       "      <td>Obstetric Disorders and Critical Illness.</td>\n",
       "      <td>[{'author': 'Griffin, Kelly M', 'author_abbrev...</td>\n",
       "      <td>Clinics in chest medicine</td>\n",
       "      <td>43</td>\n",
       "      <td>3</td>\n",
       "      <td>471-488</td>\n",
       "      <td>In this article, we discuss some of the more c...</td>\n",
       "      <td>2022</td>\n",
       "      <td>United States</td>\n",
       "      <td>https://doi.org/10.1016/j.ccm.2022.04.008</td>\n",
       "      <td>{\"pmid\": 36116815, \"electronic_issn\": \"1557-82...</td>\n",
       "    </tr>\n",
       "    <tr>\n",
       "      <th>3</th>\n",
       "      <td>4c2a0dc7-e665-49bc-bf11-4208d2a5c141</td>\n",
       "      <td>How I diagnose and treat neonatal thrombocytop...</td>\n",
       "      <td>[{'author': 'Stanworth, Simon J', 'author_abbr...</td>\n",
       "      <td>Blood</td>\n",
       "      <td>141</td>\n",
       "      <td>22</td>\n",
       "      <td>2685-2697</td>\n",
       "      <td>Neonatal thrombocytopenia, defined as the pres...</td>\n",
       "      <td>2023</td>\n",
       "      <td>United States</td>\n",
       "      <td>https://doi.org/10.1182/blood.2022018017</td>\n",
       "      <td>{\"pmid\": 36787503, \"electronic_issn\": \"1528-00...</td>\n",
       "    </tr>\n",
       "    <tr>\n",
       "      <th>4</th>\n",
       "      <td>426cc244-1011-4f64-935d-e1bada53efcf</td>\n",
       "      <td>Liberal or Restrictive Transfusion Strategy in...</td>\n",
       "      <td>[{'author': 'Turgeon, Alexis F', 'author_abbre...</td>\n",
       "      <td>The New England journal of medicine</td>\n",
       "      <td>391</td>\n",
       "      <td>8</td>\n",
       "      <td>722-735</td>\n",
       "      <td>BACKGROUND: The effect of a liberal transfusio...</td>\n",
       "      <td>2024</td>\n",
       "      <td>United States</td>\n",
       "      <td>https://doi.org/10.1056/NEJMoa2404360</td>\n",
       "      <td>{\"pmid\": 38869931, \"electronic_issn\": \"1533-44...</td>\n",
       "    </tr>\n",
       "  </tbody>\n",
       "</table>\n",
       "</div>"
      ],
      "text/plain": [
       "                                    key  \\\n",
       "0  cbe5dc78-690a-4f42-aa14-1fa928ee6f4a   \n",
       "1  a6ee585f-1ba3-45a1-a701-9076213ea3e3   \n",
       "2  fa95dc24-7daa-4768-8820-cf018f87ea59   \n",
       "3  4c2a0dc7-e665-49bc-bf11-4208d2a5c141   \n",
       "4  426cc244-1011-4f64-935d-e1bada53efcf   \n",
       "\n",
       "                                               title  \\\n",
       "0  Contemporary management of major haemorrhage i...   \n",
       "1  Pediatric Moderate and Severe Traumatic Brain ...   \n",
       "2          Obstetric Disorders and Critical Illness.   \n",
       "3  How I diagnose and treat neonatal thrombocytop...   \n",
       "4  Liberal or Restrictive Transfusion Strategy in...   \n",
       "\n",
       "                                             authors  \\\n",
       "0  [{'author': 'Maier, Cheryl L', 'author_abbrevi...   \n",
       "1  [{'author': 'Ben Abdeljelil, Anis', 'author_ab...   \n",
       "2  [{'author': 'Griffin, Kelly M', 'author_abbrev...   \n",
       "3  [{'author': 'Stanworth, Simon J', 'author_abbr...   \n",
       "4  [{'author': 'Turgeon, Alexis F', 'author_abbre...   \n",
       "\n",
       "                               journal volume  issue      pages  \\\n",
       "0              Intensive care medicine     50      3    319-331   \n",
       "1               Journal of neurotrauma     40  21-22  2270-2281   \n",
       "2            Clinics in chest medicine     43      3    471-488   \n",
       "3                                Blood    141     22  2685-2697   \n",
       "4  The New England journal of medicine    391      8    722-735   \n",
       "\n",
       "                                            abstract  year      publisher  \\\n",
       "0  Haemorrhagic shock is frequent in critical car...  2024  United States   \n",
       "1  Traumatic brain injury (TBI) is the leading ca...  2023  United States   \n",
       "2  In this article, we discuss some of the more c...  2022  United States   \n",
       "3  Neonatal thrombocytopenia, defined as the pres...  2023  United States   \n",
       "4  BACKGROUND: The effect of a liberal transfusio...  2024  United States   \n",
       "\n",
       "                                          url  \\\n",
       "0  https://doi.org/10.1007/s00134-023-07303-5   \n",
       "1       https://doi.org/10.1089/neu.2023.0149   \n",
       "2   https://doi.org/10.1016/j.ccm.2022.04.008   \n",
       "3    https://doi.org/10.1182/blood.2022018017   \n",
       "4       https://doi.org/10.1056/NEJMoa2404360   \n",
       "\n",
       "                                                issn  \n",
       "0  {\"pmid\": 38189930, \"electronic_issn\": \"1432-12...  \n",
       "1  {\"pmid\": 37341019, \"electronic_issn\": \"1557-90...  \n",
       "2  {\"pmid\": 36116815, \"electronic_issn\": \"1557-82...  \n",
       "3  {\"pmid\": 36787503, \"electronic_issn\": \"1528-00...  \n",
       "4  {\"pmid\": 38869931, \"electronic_issn\": \"1533-44...  "
      ]
     },
     "execution_count": 34,
     "metadata": {},
     "output_type": "execute_result"
    }
   ],
   "source": [
    "df3.head()"
   ]
  },
  {
   "cell_type": "code",
   "execution_count": 37,
   "metadata": {},
   "outputs": [
    {
     "name": "stdout",
     "output_type": "stream",
     "text": [
      "新しいデータの形状: (34900, 10000)\n",
      "予測を実行し、結果をデータフレームに追加しました。\n",
      "\n",
      "=== 予測結果 ===\n",
      "                                                    tiab  prediction  \\\n",
      "0      {\"title\": \"Contemporary management of major ha...           1   \n",
      "1      {\"title\": \"Pediatric Moderate and Severe Traum...           1   \n",
      "2      {\"title\": \"Obstetric Disorders and Critical Il...           0   \n",
      "3      {\"title\": \"How I diagnose and treat neonatal t...           1   \n",
      "4      {\"title\": \"Liberal or Restrictive Transfusion ...           1   \n",
      "...                                                  ...         ...   \n",
      "34895  {\"title\": \"Age of Blood evalution.\", \"abstract...           1   \n",
      "34896  {\"title\": \"Autologous Umbilical Cord Blood Mon...           1   \n",
      "34897  {\"title\": \"Age of BLood Evaluation (ABLE) tria...           1   \n",
      "34898  {\"title\": \"Age of Red Blood Cells in Premature...           1   \n",
      "34899  {\"title\": \"The effect of transfusion on cerebr...           1   \n",
      "\n",
      "       probability  \n",
      "0         0.549861  \n",
      "1         0.682654  \n",
      "2         0.189190  \n",
      "3         0.513439  \n",
      "4         0.614591  \n",
      "...            ...  \n",
      "34895     0.589637  \n",
      "34896     0.633104  \n",
      "34897     0.652265  \n",
      "34898     0.579400  \n",
      "34899     0.576636  \n",
      "\n",
      "[34900 rows x 3 columns]\n",
      "\n",
      "クラスの分布:\n",
      "prediction\n",
      "0    23996\n",
      "1    10904\n",
      "Name: count, dtype: int64\n",
      "\n",
      "予測確率の統計情報:\n",
      "count    34900.000000\n",
      "mean         0.337159\n",
      "std          0.166260\n",
      "min          0.189190\n",
      "25%          0.215015\n",
      "50%          0.242733\n",
      "75%          0.517822\n",
      "max          0.720715\n",
      "Name: probability, dtype: float64\n"
     ]
    }
   ],
   "source": [
    "# 必要なオブジェクトを準備\n",
    "# df2, create_json_text, loaded_vectorizer, loaded_model, loaded_threshold を用意済みとする\n",
    "updated_df, class_distribution, probability_stats = predict_and_summarize(\n",
    "    df3, create_json_text, loaded_vectorizer, loaded_model, loaded_threshold\n",
    ")\n"
   ]
  },
  {
   "cell_type": "code",
   "execution_count": 38,
   "metadata": {},
   "outputs": [
    {
     "name": "stdout",
     "output_type": "stream",
     "text": [
      "Index(['key', 'title', 'authors', 'journal', 'volume', 'issue', 'pages',\n",
      "       'abstract', 'year', 'publisher', 'url', 'issn', 'tiab', 'prediction',\n",
      "       'probability'],\n",
      "      dtype='object')\n"
     ]
    }
   ],
   "source": [
    "print(df3.columns)"
   ]
  },
  {
   "cell_type": "code",
   "execution_count": 39,
   "metadata": {},
   "outputs": [
    {
     "data": {
      "text/plain": [
       "prediction\n",
       "0    23996\n",
       "1    10904\n",
       "Name: count, dtype: int64"
      ]
     },
     "execution_count": 39,
     "metadata": {},
     "output_type": "execute_result"
    }
   ],
   "source": [
    "df3[\"prediction\"].value_counts()"
   ]
  },
  {
   "cell_type": "code",
   "execution_count": 40,
   "metadata": {},
   "outputs": [],
   "source": [
    "df_export = df3[df3[\"prediction\"] == 1]"
   ]
  },
  {
   "cell_type": "code",
   "execution_count": 41,
   "metadata": {},
   "outputs": [],
   "source": [
    "df_export = df_export[['key', 'title', 'authors', 'journal', 'volume', 'issue', 'pages',\n",
    "       'abstract', 'year', 'publisher', 'url', 'issn']]"
   ]
  },
  {
   "cell_type": "code",
   "execution_count": 42,
   "metadata": {},
   "outputs": [
    {
     "data": {
      "text/plain": [
       "(10904, 12)"
      ]
     },
     "execution_count": 42,
     "metadata": {},
     "output_type": "execute_result"
    }
   ],
   "source": [
    "df_export.shape"
   ]
  },
  {
   "cell_type": "code",
   "execution_count": 43,
   "metadata": {},
   "outputs": [],
   "source": [
    "# df_exportをランダムに500とそれ以外に分割して、それぞれをCSVファイルとしてエクスポート, seed設定\n",
    "df_export.sample(frac=1, random_state=42).iloc[:500].to_csv('exported_data500.csv', index=False)\n",
    "df_export.sample(frac=1, random_state=42).iloc[500:].to_csv('remaining_data10404.csv', index=False)\n",
    "\n"
   ]
  }
 ],
 "metadata": {
  "kernelspec": {
   "display_name": "Python 3",
   "language": "python",
   "name": "python3"
  },
  "language_info": {
   "codemirror_mode": {
    "name": "ipython",
    "version": 3
   },
   "file_extension": ".py",
   "mimetype": "text/x-python",
   "name": "python",
   "nbconvert_exporter": "python",
   "pygments_lexer": "ipython3",
   "version": "3.12.5"
  }
 },
 "nbformat": 4,
 "nbformat_minor": 2
}
